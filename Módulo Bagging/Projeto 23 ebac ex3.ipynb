{
 "cells": [
  {
   "cell_type": "markdown",
   "metadata": {},
   "source": [
    "# Hiperparâmetros em Random Forest\n",
    "\n",
    "- Hiperparâmetros são os parâmetros usados para se otimizar o operador de random forest, no scikitlearn eles são passados juntamente com a função de random forest usada.<br> Segue uam lista deles, como mostrada na documentação do scikitlearn: (n_estimators=100, *, criterion='gini', max_depth=None, min_samples_split=2, min_samples_leaf=1, min_weight_fraction_leaf=0.0, max_features='sqrt', max_leaf_nodes=None, min_impurity_decrease=0.0, bootstrap=True, oob_score=False, n_jobs=None, random_state=None, verbose=0, warm_start=False, class_weight=None, ccp_alpha=0.0, max_samples=None, monotonic_cst=None)\n",
    "<br><br> **Agora daremos uma breve explicação de cada** <br><br>\n",
    "- n_estimators: número de árvores usadas na técnica.\n",
    "- criterion: qual função será usada para definir a qualidade da quebra.\n",
    "- max_depth: qual a profundidade máxima de uma árvore.\n",
    "- min_samples_split: quantidade mínima de amostras necessárias para se fazer uma quebra.\n",
    "- min_samples_leaf: quantidade mínima de amostras necessárias para se fazer parte de um ramo (nivel da árvore)\n",
    "- min_weight_fraction_leaf: fração mínima ponderada da soma total dos pesos (de todas as amostras de entrada) necessária para estar em um nó\n",
    "- max_features: quantidade de features consideradas ao se fazer uma quebra.\n",
    "- max_leaf_nodes: quantidade máxima de folhas por nó\n",
    "- min_impurity_decrease: o nó em questão será quabrado caso a quebra gere uma redução na impureza maior ou igual ao valor estabelecido\n",
    "- bootstrap: se o método bootstrap será utilizado para definir as árvores, caso falso, cada árvore irá conter o conjunto de dados completo\n",
    "- oob_score: se o conjunto de dados 'oob' será utilizado para medir o score\n",
    "- n_jobs: quantidade de métodos que irão rodar em paralelo\n",
    "- random_state: controla a aleatoriedade ao se usar o método bootstrap para criar as árvores\n",
    "- verbose: controla a verbosidade ao fazer os métodos .fit() e .predict()\n",
    "- warm_start: quando True, reusa os dados de uma chamada anterior da função para ajustar e adicionar mais estimadores ao método\n",
    "- class_weight: dá peso diferentes para certas classes\n",
    "- ccp_alpha: seleciona a poda com maior valor de ccp_alpha que ainda é menor que o valor passado no parâmetro, nenhuma poda extra é realizada\n",
    "- max_samples: se bootstrap for definido com True, determina a quantidade máxima de amostras a serem retiradas de X para treinar cada estimador base\n",
    "- monotonic_cst: indica a restrição de monotonicidade a ser imposta em cada característica.<br><br>\n",
    "Para mais informações, segue o link da documentação: https://scikit-learn.org/stable/modules/generated/sklearn.ensemble.RandomForestClassifier.html"
   ]
  },
  {
   "cell_type": "markdown",
   "metadata": {},
   "source": []
  }
 ],
 "metadata": {
  "language_info": {
   "name": "python"
  }
 },
 "nbformat": 4,
 "nbformat_minor": 2
}
