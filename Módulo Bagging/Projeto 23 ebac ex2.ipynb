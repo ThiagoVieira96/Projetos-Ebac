{
 "cells": [
  {
   "cell_type": "markdown",
   "metadata": {},
   "source": [
    "# Fundamentos de Random Forest\n",
    "\n",
    "Random Forest é uma técnica de ensemble learning que consiste em criar um número n de subconjuntos de um dataframe principal,<br>\n",
    "onde, assim como no Bagging, pode haver repetição de linhas, com a principal diferença é que no random forest nem todas as colunas são selecionadas,<br> além dessas serem selecionadas aleatoriamente. Para cada um destes novos dataframes criados a partir do dataframe principal é treinada uma árvore de decisão<br> (ou regressão) e o resultado final do modelo, assim como no Bagging, é o resultado mais frequente para árvores de decisão<br> ou a média dos resultados para árvores de regressão.<br> Sua principal diferença em relação ao Bagging são os fatos de que nem todas as colunas de um dataframe são selecionadas na criação de um subconjunto, além de,<br> principalmente, as árvores criadas e usadas nesta técnica são independentes entre si, o que introduz uma aleatoriedade extra, tornando o random forest bastante robusto a overfitting.<br>\n",
    "As maiores vantagens deste modelo são sua velocidade, simplicidade além do fato da técnica não gerar tendências, assim, não criando overfitting."
   ]
  },
  {
   "cell_type": "markdown",
   "metadata": {},
   "source": [
    "Abaixo será mostrada a técnica em um exemplo prático, assim como no exercício passado, usaremos o conjunto de dados 'load_iris' do scikitlearn."
   ]
  },
  {
   "cell_type": "code",
   "execution_count": 8,
   "metadata": {},
   "outputs": [
    {
     "data": {
      "text/plain": [
       "1.0"
      ]
     },
     "execution_count": 8,
     "metadata": {},
     "output_type": "execute_result"
    }
   ],
   "source": [
    "from sklearn.ensemble import RandomForestClassifier\n",
    "from sklearn.datasets import load_iris\n",
    "from sklearn.model_selection import train_test_split\n",
    "from sklearn.metrics import accuracy_score\n",
    "\n",
    "# Carregando primeiramente o conjunto de dados\n",
    "iris = load_iris()\n",
    "X, y = iris.data, iris.target\n",
    "\n",
    "# Agora dividiremos os dados em treinamento e teste\n",
    "X_train, X_test, y_train, y_test = train_test_split(X, y, test_size=0.2, random_state=42)\n",
    "## A principal diferença é que não precisaremos criar uma árvore de decisão para usá-la como estimador\n",
    "# Agora iremos criar o Random Forest e dar fit nos dados de treino.\n",
    "random_forest_classifier = RandomForestClassifier(n_estimators=100, random_state=42)\n",
    "random_forest_classifier.fit(X_train, y_train)\n",
    "\n",
    "# Fazendo previsões no conjunto de teste\n",
    "predictions = random_forest_classifier.predict(X_test)\n",
    "accuracy_score(y_test, predictions)"
   ]
  }
 ],
 "metadata": {
  "kernelspec": {
   "display_name": "Python 3",
   "language": "python",
   "name": "python3"
  },
  "language_info": {
   "codemirror_mode": {
    "name": "ipython",
    "version": 3
   },
   "file_extension": ".py",
   "mimetype": "text/x-python",
   "name": "python",
   "nbconvert_exporter": "python",
   "pygments_lexer": "ipython3",
   "version": "3.11.4"
  }
 },
 "nbformat": 4,
 "nbformat_minor": 2
}
