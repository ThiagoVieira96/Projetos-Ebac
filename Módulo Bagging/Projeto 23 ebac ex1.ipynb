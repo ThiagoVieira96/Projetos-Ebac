{
 "cells": [
  {
   "cell_type": "markdown",
   "metadata": {},
   "source": [
    "# Fundamentos de Bagging\n",
    "\n",
    "Bagging (Boostrap aggregating) é uma técnica de ensemble learning que consiste em criar um número n de subconjuntos, todos tendo no máximo o mesmo tamanho do datatrame original <br> e com os dados iguais, com a diferença é que estes dataframes criados poderão conter linhas repetidas,<br> o que chamamos de amostragem com substituição (bootstrap).<br>\n",
    "A partir destes subconjuntos são criadas e rodadas árvores (tanto de decisão quanto regressão) e essas árvores retornarão seus resultados preditos.<br>\n",
    "Com estes resultados preditos, o resultado do modelo é o resultado mais frequente para árvores de decisão, já para árvores de regressão é a média aritimetica dos resultados de cada árvore.<br>\n",
    "Os principais objetivos desta técnica são diminuir a chance de se ocorrer overfitting, aumentar a estabilidade e acurácia, além de aumentar a capacidade de generalização do modelo, já que ele está sendo treinado em um conjunto de dados ligeiramente diferente dos dados originais."
   ]
  },
  {
   "cell_type": "markdown",
   "metadata": {},
   "source": [
    "Abaixo será demosntrada uma aplicação básica de Bagging, onde a base de dados usada foi a 'load_iris' do Scikitlearn,<br> o Bagging em si será feito diretamente pela função 'BaggingClassifier'"
   ]
  },
  {
   "cell_type": "code",
   "execution_count": 15,
   "metadata": {},
   "outputs": [
    {
     "data": {
      "text/plain": [
       "1.0"
      ]
     },
     "execution_count": 15,
     "metadata": {},
     "output_type": "execute_result"
    }
   ],
   "source": [
    "from sklearn.ensemble import BaggingClassifier\n",
    "from sklearn.tree import DecisionTreeClassifier\n",
    "from sklearn.datasets import load_iris\n",
    "from sklearn.model_selection import train_test_split\n",
    "from sklearn.metrics import accuracy_score\n",
    "\n",
    "# Primeiramente iremos carregar o conjunto de dados\n",
    "iris = load_iris()\n",
    "X, y = iris.data, iris.target\n",
    "\n",
    "# Agora iremos dividi-lo em treino e teste, além de criarmos uma árvore de decisão a ser usada no Bagging.\n",
    "X_train, X_test, y_train, y_test = train_test_split(X, y, test_size=0.3, random_state=42)\n",
    "base_classifier = DecisionTreeClassifier()\n",
    "\n",
    "# Agora iremos criar o BaggingClassifier e estabelecer a árvore criada como estimador\n",
    "bagging_classifier = BaggingClassifier(estimator=base_classifier, n_estimators=10, random_state=42)\n",
    "bagging_classifier.fit(X_train, y_train)\n",
    "\n",
    "# Por fim, faremos as previsões e calcularemos a acurácia\n",
    "predictions = bagging_classifier.predict(X_test)\n",
    "accuracy = accuracy_score(y_test, predictions)\n",
    "accuracy\n"
   ]
  }
 ],
 "metadata": {
  "kernelspec": {
   "display_name": "Python 3",
   "language": "python",
   "name": "python3"
  },
  "language_info": {
   "codemirror_mode": {
    "name": "ipython",
    "version": 3
   },
   "file_extension": ".py",
   "mimetype": "text/x-python",
   "name": "python",
   "nbconvert_exporter": "python",
   "pygments_lexer": "ipython3",
   "version": "3.11.4"
  }
 },
 "nbformat": 4,
 "nbformat_minor": 2
}
