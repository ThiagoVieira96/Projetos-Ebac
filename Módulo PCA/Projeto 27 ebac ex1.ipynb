{
 "cells": [
  {
   "cell_type": "markdown",
   "metadata": {},
   "source": [
    "![Cabec%CC%A7alho_notebook.png](cabecalho_notebook.png)"
   ]
  },
  {
   "cell_type": "markdown",
   "metadata": {},
   "source": [
    "# PCA - Tarefa 01: *HAR* com PCA\n",
    "\n",
    "Vamos trabalhar com a base da demonstração feita em aula, mas vamos explorar um pouco melhor como é o desempenho da árvore variando o número de componentes principais."
   ]
  },
  {
   "cell_type": "code",
   "execution_count": 1,
   "metadata": {},
   "outputs": [],
   "source": [
    "import pandas as pd\n",
    "from sklearn.tree import DecisionTreeClassifier\n",
    "from sklearn.decomposition import PCA\n",
    "from sklearn.metrics import accuracy_score\n",
    "from sklearn.model_selection import cross_val_score\n",
    "from sklearn.model_selection import GridSearchCV\n",
    "\n",
    "filename_features = \"./human+activity+recognition+using+smartphones/UCI HAR Dataset/UCI HAR Dataset/features.txt\"\n",
    "filename_labels = \"./human+activity+recognition+using+smartphones/UCI HAR Dataset/UCI HAR Dataset/activity_labels.txt\"\n",
    "\n",
    "filename_subtrain = \"./human+activity+recognition+using+smartphones/UCI HAR Dataset/UCI HAR Dataset/train/subject_train.txt\"\n",
    "filename_xtrain = \"./human+activity+recognition+using+smartphones/UCI HAR Dataset/UCI HAR Dataset/train/X_train.txt\"\n",
    "filename_ytrain = \"./human+activity+recognition+using+smartphones/UCI HAR Dataset/UCI HAR Dataset/train/y_train.txt\"\n",
    "\n",
    "filename_subtest = \"./human+activity+recognition+using+smartphones/UCI HAR Dataset/UCI HAR Dataset/test/subject_test.txt\"\n",
    "ffilename_xtest = \"./human+activity+recognition+using+smartphones/UCI HAR Dataset/UCI HAR Dataset/test/X_test.txt\"\n",
    "filename_ytest = \"./human+activity+recognition+using+smartphones/UCI HAR Dataset/UCI HAR Dataset/test/y_test.txt\""
   ]
  },
  {
   "cell_type": "code",
   "execution_count": 2,
   "metadata": {},
   "outputs": [],
   "source": [
    "features = pd.read_csv(filename_features, header=None, names=['nome_var'], sep=\"#\")\n",
    "labels = pd.read_csv(filename_labels, delim_whitespace=True, header=None, names=['cod_label', 'label'])\n",
    "subject_train = pd.read_csv(filename_subtrain, header=None, names=['subject_id'])\n",
    "subject_test = pd.read_csv(filename_subtest, header=None, names=['subject_id'])\n",
    "\n",
    "X_train = pd.read_csv(filename_xtrain, delim_whitespace=True, header=None, names=features['nome_var'].tolist())\n",
    "X_test = pd.read_csv(ffilename_xtest, delim_whitespace=True, header=None, names=features['nome_var'].tolist())\n",
    "\n",
    "y_train = pd.read_csv(filename_ytrain, header=None, names=['cod_label'])\n",
    "y_test = pd.read_csv(filename_ytest, header=None, names=['cod_label'])\n"
   ]
  },
  {
   "cell_type": "markdown",
   "metadata": {},
   "source": [
    "## Árvore de decisão\n",
    "\n",
    "Rode uma árvore de decisão com todas as variáveis, utilizando o ```ccp_alpha=0.001```. Avalie a acurácia nas bases de treinamento e teste. Avalie o tempo de processamento."
   ]
  },
  {
   "cell_type": "code",
   "execution_count": 3,
   "metadata": {},
   "outputs": [
    {
     "name": "stdout",
     "output_type": "stream",
     "text": [
      "Acurácia da árvore na base de treino:    0.909\n",
      "Acurácia da árvore na base de teste:     0.838\n",
      "CPU times: total: 5.92 s\n",
      "Wall time: 10.6 s\n"
     ]
    }
   ],
   "source": [
    "%%time\n",
    "clf = DecisionTreeClassifier(ccp_alpha= 0.01)\n",
    "clf.fit(X_train, y_train)\n",
    "\n",
    "predict = clf.predict(X_test)\n",
    "train_score = clf.score(X_train, y_train)\n",
    "valid_score = accuracy_score(y_test, predict)\n",
    "\n",
    "print(f'Acurácia da árvore na base de treino:    {train_score:.3f}')\n",
    "print(f'Acurácia da árvore na base de teste:     {valid_score:.3f}')"
   ]
  },
  {
   "cell_type": "markdown",
   "metadata": {},
   "source": [
    "## Árvore com PCA\n",
    "\n",
    "Faça uma análise de componemtes principais das variáveis originais. Utilize apenas uma componente. Faça uma árvore de decisão com esta componente como variável explicativa.\n",
    "\n",
    "- Avalie a acurácia nas bases de treinamento e teste\n",
    "- Avalie o tempo de processamento"
   ]
  },
  {
   "cell_type": "code",
   "execution_count": 4,
   "metadata": {},
   "outputs": [
    {
     "name": "stdout",
     "output_type": "stream",
     "text": [
      "Acurácia da árvore na base de treino:    0.462\n",
      "Acurácia da árvore na base de teste:     0.431\n",
      "CPU times: total: 93.8 ms\n",
      "Wall time: 174 ms\n"
     ]
    }
   ],
   "source": [
    "%%time\n",
    "prcomp = PCA(n_components=1).fit(X_train)\n",
    "pc_treino = prcomp.transform(X_train)\n",
    "pc_teste  = prcomp.transform(X_test)\n",
    "\n",
    "clf_2 = DecisionTreeClassifier(ccp_alpha=0.01).fit(pc_treino,y_train)\n",
    "predict_2 = clf_2.predict(pc_teste)\n",
    "accuracy_score(y_test, predict_2)\n",
    "\n",
    "train_score = clf_2.score(pc_treino, y_train)\n",
    "valid_score = accuracy_score(y_test, predict_2)\n",
    "\n",
    "print(f'Acurácia da árvore na base de treino:    {train_score:.3f}')\n",
    "print(f'Acurácia da árvore na base de teste:     {valid_score:.3f}')"
   ]
  },
  {
   "cell_type": "markdown",
   "metadata": {},
   "source": [
    "## Testando o número de componentes\n",
    "\n",
    "Com base no código acima, teste a árvore de classificação com pelo menos as seguintes possibilidades de quantidades de componentes: ```[1, 2, 5, 10, 50]```. Avalie para cada uma delas:\n",
    "\n",
    "- Acurácia nas bases de treino e teste\n",
    "- Tempo de processamento\n"
   ]
  },
  {
   "cell_type": "code",
   "execution_count": 5,
   "metadata": {},
   "outputs": [
    {
     "name": "stdout",
     "output_type": "stream",
     "text": [
      "CPU times: total: 984 ms\n",
      "Wall time: 2.17 s\n"
     ]
    }
   ],
   "source": [
    "%%time\n",
    "components = [1, 2, 5, 10, 50]\n",
    "acuracias_treino = []\n",
    "acuracias_teste = []\n",
    "\n",
    "for n in components:\n",
    "    prcomp = PCA(n_components=n).fit(X_train)\n",
    "    pc_treino = prcomp.transform(X_train)\n",
    "    pc_teste  = prcomp.transform(X_test)\n",
    "    \n",
    "    clf = DecisionTreeClassifier(ccp_alpha=0.01).fit(pc_treino,y_train)\n",
    "    predict = clf.predict(pc_teste)\n",
    "    acuracias_teste.append(accuracy_score(y_test, predict))\n",
    "    acuracias_treino.append(clf.score(pc_treino, y_train))"
   ]
  },
  {
   "cell_type": "code",
   "execution_count": 6,
   "metadata": {},
   "outputs": [
    {
     "name": "stdout",
     "output_type": "stream",
     "text": [
      "Acurácia da árvore na base de treino com 1 componente:    0.431\n",
      "Acurácia da árvore na base de treino com 2 componentes:    0.538\n",
      "Acurácia da árvore na base de treino com 5 componentes:    0.725\n",
      "Acurácia da árvore na base de treino com 10 componentes:    0.801\n",
      "Acurácia da árvore na base de treino com 50 componentes:    0.815\n",
      "\n",
      "################################################################\n",
      "\n",
      "Acurácia da árvore na base de teste com 1 componente:     0.462\n",
      "Acurácia da árvore na base de teste com 2 componente:     0.537\n",
      "Acurácia da árvore na base de teste com 5 componente:     0.767\n",
      "Acurácia da árvore na base de teste com 10 componente:     0.826\n",
      "Acurácia da árvore na base de teste com 50 componente:     0.826\n"
     ]
    }
   ],
   "source": [
    "print(f'Acurácia da árvore na base de treino com 1 componente:    {acuracias_teste[0]:.3f}')\n",
    "print(f'Acurácia da árvore na base de treino com 2 componentes:    {acuracias_teste[1]:.3f}')\n",
    "print(f'Acurácia da árvore na base de treino com 5 componentes:    {acuracias_teste[2]:.3f}')\n",
    "print(f'Acurácia da árvore na base de treino com 10 componentes:    {acuracias_teste[3]:.3f}')\n",
    "print(f'Acurácia da árvore na base de treino com 50 componentes:    {acuracias_teste[4]:.3f}')\n",
    "\n",
    "print('\\n################################################################\\n')\n",
    "\n",
    "print(f'Acurácia da árvore na base de teste com 1 componente:     {acuracias_treino[0]:.3f}')\n",
    "print(f'Acurácia da árvore na base de teste com 2 componente:     {acuracias_treino[1]:.3f}')\n",
    "print(f'Acurácia da árvore na base de teste com 5 componente:     {acuracias_treino[2]:.3f}')\n",
    "print(f'Acurácia da árvore na base de teste com 10 componente:     {acuracias_treino[3]:.3f}')\n",
    "print(f'Acurácia da árvore na base de teste com 50 componente:     {acuracias_treino[4]:.3f}')"
   ]
  },
  {
   "cell_type": "markdown",
   "metadata": {},
   "source": [
    "## Conclua\n",
    "\n",
    "- O que aconteceu com a acurácia?\n",
    "- O que aconteceu com o tempo de processamento?"
   ]
  },
  {
   "cell_type": "markdown",
   "metadata": {},
   "source": [
    "A principal diferença foi o tempo de processamento, sendo que este caiu em mais de 10, sendo que até quando foram testadas PCAs com diferente números<br> de componentes o tempo de processamento foi menor que o tempo de uma árvore com os dados brutos.<br> A acurácia porém, caiu consideravelmente com PCAs de apenas um componente (principalmente nas bases de treino), porém, PCAs de 50 componentes<br> obtiveram acurácias altamente semelhantes aos dados brutos nas bases de teste (0,838 e 0,826), com uma fração do tempo necessário."
   ]
  }
 ],
 "metadata": {
  "kernelspec": {
   "display_name": "Python 3",
   "language": "python",
   "name": "python3"
  },
  "language_info": {
   "codemirror_mode": {
    "name": "ipython",
    "version": 3
   },
   "file_extension": ".py",
   "mimetype": "text/x-python",
   "name": "python",
   "nbconvert_exporter": "python",
   "pygments_lexer": "ipython3",
   "version": "3.11.4"
  },
  "toc": {
   "base_numbering": 1,
   "nav_menu": {},
   "number_sections": true,
   "sideBar": true,
   "skip_h1_title": true,
   "title_cell": "Índice",
   "title_sidebar": "Conteúdo",
   "toc_cell": false,
   "toc_position": {},
   "toc_section_display": true,
   "toc_window_display": false
  },
  "varInspector": {
   "cols": {
    "lenName": 16,
    "lenType": 16,
    "lenVar": 40
   },
   "kernels_config": {
    "python": {
     "delete_cmd_postfix": "",
     "delete_cmd_prefix": "del ",
     "library": "var_list.py",
     "varRefreshCmd": "print(var_dic_list())"
    },
    "r": {
     "delete_cmd_postfix": ") ",
     "delete_cmd_prefix": "rm(",
     "library": "var_list.r",
     "varRefreshCmd": "cat(var_dic_list()) "
    }
   },
   "types_to_exclude": [
    "module",
    "function",
    "builtin_function_or_method",
    "instance",
    "_Feature"
   ],
   "window_display": false
  }
 },
 "nbformat": 4,
 "nbformat_minor": 4
}
