{
 "cells": [
  {
   "cell_type": "markdown",
   "metadata": {},
   "source": [
    "## Exercício 1: Vestibular\n",
    "\n",
    "Considere que a os dados gerados na célula abaixo contêm o número de acertos de 100 alunos em um vestibular para um curso de exatas, divididas pelos respectivos assuntos. Considere que cada assunto possui um número de questões conforme a tabela abaixo:\n",
    "\n",
    "| assunto | número de questões |\n",
    "|:---:|:---:|\n",
    "| Matemática | 24 |\n",
    "| Português | 18 |\n",
    "| Geografia | 8 |\n",
    "| Inglês | 8 |\n",
    "| História | 8 |\n",
    "| Física | 12 |\n",
    "| Química | 12 |\n",
    "\n",
    "Usando os comandos de operações com DataFrames que você aprendeu na Aula 03, calcule:\n",
    "\n",
    "1. (operações com escalar) Calcule o percentual de acerto dos alunos por assunto.  \n",
    "2. (operações entre *DataFrames) Calcule o total de acertos de cada aluno.  \n",
    "3. Calcule o porcentual geral de cada aluno.  \n",
    "4. Suponha que a nota de corte para a segunda fase seja 45. Quantos alunos tiveram nota maior que 45?  "
   ]
  },
  {
   "cell_type": "code",
   "execution_count": 1,
   "metadata": {},
   "outputs": [],
   "source": [
    "import pandas as pd\n",
    "import numpy as np\n",
    "\n",
    "np.random.seed(42)\n",
    "df_mat = pd.DataFrame(np.random.randint(24, size=(100, 1)), columns=['Qt_acertos'])\n",
    "\n",
    "df_por = pd.DataFrame(np.random.randint(18, size=(100, 1)), columns=['Qt_acertos'])\n",
    "\n",
    "df_geo = pd.DataFrame(np.random.randint(8, size=(100, 1)), columns=['Qt_acertos'])\n",
    "\n",
    "df_ing = pd.DataFrame(np.random.randint(8, size=(100, 1)), columns=['Qt_acertos'])\n",
    "\n",
    "df_his = pd.DataFrame(np.random.randint(8, size=(100, 1)), columns=['Qt_acertos'])\n",
    "\n",
    "df_fis = pd.DataFrame(np.random.randint(12, size=(100, 1)), columns=['Qt_acertos'])\n",
    "\n",
    "df_qui = pd.DataFrame(np.random.randint(12, size=(100, 1)), columns=['Qt_acertos'])"
   ]
  },
  {
   "cell_type": "code",
   "execution_count": 2,
   "metadata": {},
   "outputs": [],
   "source": [
    "# 1) Seu código aqui\n",
    "\n",
    "pc_mat = df_mat / 24\n",
    "pc_por = df_por / 18\n",
    "pc_geo = df_geo /  8\n",
    "pc_ing = df_ing /  8\n",
    "pc_his = df_his /  8\n",
    "pc_fis = df_fis /  8\n",
    "pc_qui = df_qui /  8"
   ]
  },
  {
   "cell_type": "code",
   "execution_count": 3,
   "metadata": {},
   "outputs": [
    {
     "data": {
      "text/html": [
       "<div>\n",
       "<style scoped>\n",
       "    .dataframe tbody tr th:only-of-type {\n",
       "        vertical-align: middle;\n",
       "    }\n",
       "\n",
       "    .dataframe tbody tr th {\n",
       "        vertical-align: top;\n",
       "    }\n",
       "\n",
       "    .dataframe thead th {\n",
       "        text-align: right;\n",
       "    }\n",
       "</style>\n",
       "<table border=\"1\" class=\"dataframe\">\n",
       "  <thead>\n",
       "    <tr style=\"text-align: right;\">\n",
       "      <th></th>\n",
       "      <th>Qt_acertos</th>\n",
       "    </tr>\n",
       "  </thead>\n",
       "  <tbody>\n",
       "    <tr>\n",
       "      <th>0</th>\n",
       "      <td>35</td>\n",
       "    </tr>\n",
       "    <tr>\n",
       "      <th>1</th>\n",
       "      <td>48</td>\n",
       "    </tr>\n",
       "    <tr>\n",
       "      <th>2</th>\n",
       "      <td>50</td>\n",
       "    </tr>\n",
       "    <tr>\n",
       "      <th>3</th>\n",
       "      <td>32</td>\n",
       "    </tr>\n",
       "    <tr>\n",
       "      <th>4</th>\n",
       "      <td>30</td>\n",
       "    </tr>\n",
       "    <tr>\n",
       "      <th>...</th>\n",
       "      <td>...</td>\n",
       "    </tr>\n",
       "    <tr>\n",
       "      <th>95</th>\n",
       "      <td>34</td>\n",
       "    </tr>\n",
       "    <tr>\n",
       "      <th>96</th>\n",
       "      <td>27</td>\n",
       "    </tr>\n",
       "    <tr>\n",
       "      <th>97</th>\n",
       "      <td>40</td>\n",
       "    </tr>\n",
       "    <tr>\n",
       "      <th>98</th>\n",
       "      <td>40</td>\n",
       "    </tr>\n",
       "    <tr>\n",
       "      <th>99</th>\n",
       "      <td>42</td>\n",
       "    </tr>\n",
       "  </tbody>\n",
       "</table>\n",
       "<p>100 rows × 1 columns</p>\n",
       "</div>"
      ],
      "text/plain": [
       "    Qt_acertos\n",
       "0           35\n",
       "1           48\n",
       "2           50\n",
       "3           32\n",
       "4           30\n",
       "..         ...\n",
       "95          34\n",
       "96          27\n",
       "97          40\n",
       "98          40\n",
       "99          42\n",
       "\n",
       "[100 rows x 1 columns]"
      ]
     },
     "execution_count": 3,
     "metadata": {},
     "output_type": "execute_result"
    }
   ],
   "source": [
    "# 2) Seu código aqui\n",
    "total = df_mat + df_por + df_geo + df_ing + df_his + df_fis + df_qui\n",
    "total"
   ]
  },
  {
   "cell_type": "code",
   "execution_count": 4,
   "metadata": {},
   "outputs": [
    {
     "data": {
      "text/html": [
       "<div>\n",
       "<style scoped>\n",
       "    .dataframe tbody tr th:only-of-type {\n",
       "        vertical-align: middle;\n",
       "    }\n",
       "\n",
       "    .dataframe tbody tr th {\n",
       "        vertical-align: top;\n",
       "    }\n",
       "\n",
       "    .dataframe thead th {\n",
       "        text-align: right;\n",
       "    }\n",
       "</style>\n",
       "<table border=\"1\" class=\"dataframe\">\n",
       "  <thead>\n",
       "    <tr style=\"text-align: right;\">\n",
       "      <th></th>\n",
       "      <th>Qt_acertos</th>\n",
       "    </tr>\n",
       "  </thead>\n",
       "  <tbody>\n",
       "    <tr>\n",
       "      <th>0</th>\n",
       "      <td>0.388889</td>\n",
       "    </tr>\n",
       "    <tr>\n",
       "      <th>1</th>\n",
       "      <td>0.533333</td>\n",
       "    </tr>\n",
       "    <tr>\n",
       "      <th>2</th>\n",
       "      <td>0.555556</td>\n",
       "    </tr>\n",
       "    <tr>\n",
       "      <th>3</th>\n",
       "      <td>0.355556</td>\n",
       "    </tr>\n",
       "    <tr>\n",
       "      <th>4</th>\n",
       "      <td>0.333333</td>\n",
       "    </tr>\n",
       "    <tr>\n",
       "      <th>...</th>\n",
       "      <td>...</td>\n",
       "    </tr>\n",
       "    <tr>\n",
       "      <th>95</th>\n",
       "      <td>0.377778</td>\n",
       "    </tr>\n",
       "    <tr>\n",
       "      <th>96</th>\n",
       "      <td>0.300000</td>\n",
       "    </tr>\n",
       "    <tr>\n",
       "      <th>97</th>\n",
       "      <td>0.444444</td>\n",
       "    </tr>\n",
       "    <tr>\n",
       "      <th>98</th>\n",
       "      <td>0.444444</td>\n",
       "    </tr>\n",
       "    <tr>\n",
       "      <th>99</th>\n",
       "      <td>0.466667</td>\n",
       "    </tr>\n",
       "  </tbody>\n",
       "</table>\n",
       "<p>100 rows × 1 columns</p>\n",
       "</div>"
      ],
      "text/plain": [
       "    Qt_acertos\n",
       "0     0.388889\n",
       "1     0.533333\n",
       "2     0.555556\n",
       "3     0.355556\n",
       "4     0.333333\n",
       "..         ...\n",
       "95    0.377778\n",
       "96    0.300000\n",
       "97    0.444444\n",
       "98    0.444444\n",
       "99    0.466667\n",
       "\n",
       "[100 rows x 1 columns]"
      ]
     },
     "execution_count": 4,
     "metadata": {},
     "output_type": "execute_result"
    }
   ],
   "source": [
    "# 3) Seu código aqui\n",
    "total/90"
   ]
  },
  {
   "cell_type": "code",
   "execution_count": 5,
   "metadata": {},
   "outputs": [
    {
     "data": {
      "text/plain": [
       "Qt_acertos    31\n",
       "dtype: int64"
      ]
     },
     "execution_count": 5,
     "metadata": {},
     "output_type": "execute_result"
    }
   ],
   "source": [
    "# 4) Seu código aqui\n",
    "total_gt_45 = total[total['Qt_acertos'] > 45]\n",
    "total_gt_45.count()"
   ]
  },
  {
   "cell_type": "markdown",
   "metadata": {},
   "source": [
    "## 2) Vestibular II\n",
    "\n",
    "Ainda sobre o mesmo banco de dados:\n",
    "\n",
    "1. Neste vestibular, quem 'zera' em matemática, física ou química está desqualificado. Monte um novo *DataFrame* com os alunos desqualificados por este critério.\n",
    "2. Quantos são esses alunos?\n",
    "3. Qual a média desses alunos em história e geografia?\n",
    "4. Monte um *DataFrame* com os alunos que passaram para a segunda fase. Repare que estes alunos não podem ter sido desqualificados."
   ]
  },
  {
   "cell_type": "code",
   "execution_count": 6,
   "metadata": {},
   "outputs": [
    {
     "data": {
      "text/html": [
       "<div>\n",
       "<style scoped>\n",
       "    .dataframe tbody tr th:only-of-type {\n",
       "        vertical-align: middle;\n",
       "    }\n",
       "\n",
       "    .dataframe tbody tr th {\n",
       "        vertical-align: top;\n",
       "    }\n",
       "\n",
       "    .dataframe thead th {\n",
       "        text-align: right;\n",
       "    }\n",
       "</style>\n",
       "<table border=\"1\" class=\"dataframe\">\n",
       "  <thead>\n",
       "    <tr style=\"text-align: right;\">\n",
       "      <th></th>\n",
       "      <th>Qt_acertos</th>\n",
       "    </tr>\n",
       "  </thead>\n",
       "  <tbody>\n",
       "    <tr>\n",
       "      <th>3</th>\n",
       "      <td>32</td>\n",
       "    </tr>\n",
       "    <tr>\n",
       "      <th>6</th>\n",
       "      <td>29</td>\n",
       "    </tr>\n",
       "    <tr>\n",
       "      <th>10</th>\n",
       "      <td>31</td>\n",
       "    </tr>\n",
       "    <tr>\n",
       "      <th>12</th>\n",
       "      <td>42</td>\n",
       "    </tr>\n",
       "    <tr>\n",
       "      <th>14</th>\n",
       "      <td>31</td>\n",
       "    </tr>\n",
       "    <tr>\n",
       "      <th>20</th>\n",
       "      <td>53</td>\n",
       "    </tr>\n",
       "    <tr>\n",
       "      <th>25</th>\n",
       "      <td>27</td>\n",
       "    </tr>\n",
       "    <tr>\n",
       "      <th>26</th>\n",
       "      <td>40</td>\n",
       "    </tr>\n",
       "    <tr>\n",
       "      <th>27</th>\n",
       "      <td>50</td>\n",
       "    </tr>\n",
       "    <tr>\n",
       "      <th>33</th>\n",
       "      <td>39</td>\n",
       "    </tr>\n",
       "    <tr>\n",
       "      <th>35</th>\n",
       "      <td>48</td>\n",
       "    </tr>\n",
       "    <tr>\n",
       "      <th>49</th>\n",
       "      <td>19</td>\n",
       "    </tr>\n",
       "    <tr>\n",
       "      <th>56</th>\n",
       "      <td>39</td>\n",
       "    </tr>\n",
       "    <tr>\n",
       "      <th>65</th>\n",
       "      <td>24</td>\n",
       "    </tr>\n",
       "    <tr>\n",
       "      <th>66</th>\n",
       "      <td>31</td>\n",
       "    </tr>\n",
       "    <tr>\n",
       "      <th>72</th>\n",
       "      <td>50</td>\n",
       "    </tr>\n",
       "    <tr>\n",
       "      <th>73</th>\n",
       "      <td>37</td>\n",
       "    </tr>\n",
       "    <tr>\n",
       "      <th>74</th>\n",
       "      <td>39</td>\n",
       "    </tr>\n",
       "    <tr>\n",
       "      <th>84</th>\n",
       "      <td>26</td>\n",
       "    </tr>\n",
       "    <tr>\n",
       "      <th>89</th>\n",
       "      <td>63</td>\n",
       "    </tr>\n",
       "    <tr>\n",
       "      <th>92</th>\n",
       "      <td>40</td>\n",
       "    </tr>\n",
       "    <tr>\n",
       "      <th>94</th>\n",
       "      <td>25</td>\n",
       "    </tr>\n",
       "    <tr>\n",
       "      <th>98</th>\n",
       "      <td>40</td>\n",
       "    </tr>\n",
       "  </tbody>\n",
       "</table>\n",
       "</div>"
      ],
      "text/plain": [
       "    Qt_acertos\n",
       "3           32\n",
       "6           29\n",
       "10          31\n",
       "12          42\n",
       "14          31\n",
       "20          53\n",
       "25          27\n",
       "26          40\n",
       "27          50\n",
       "33          39\n",
       "35          48\n",
       "49          19\n",
       "56          39\n",
       "65          24\n",
       "66          31\n",
       "72          50\n",
       "73          37\n",
       "74          39\n",
       "84          26\n",
       "89          63\n",
       "92          40\n",
       "94          25\n",
       "98          40"
      ]
     },
     "execution_count": 6,
     "metadata": {},
     "output_type": "execute_result"
    }
   ],
   "source": [
    "# seu código aqui\n",
    "df_eliminados = total[(df_mat['Qt_acertos'] == 0) | \n",
    "                      (df_fis['Qt_acertos'] == 0) | \n",
    "                      (df_qui['Qt_acertos'] == 0)]\n",
    "\n",
    "df_eliminados"
   ]
  },
  {
   "cell_type": "markdown",
   "metadata": {},
   "source": [
    "## 3) Vacinações no Acre\n",
    "Vamos trabalhar agora com a base de vacinações no Acre. Para facilitar a sua vida, copiamos o link do arquivo na célula abaixo.\n",
    "\n",
    "1. Quantas vacinas estão registradas nessa base?  \n",
    "2. Quantos pacientes foram vacinados? (considere um paciente para cada valor único de ```paciente_id```)  \n",
    "3. Quantos pacientes únicos tomaram a primeira dose? OBS: Há um caractere especial neste campo. Receba os valores do campo com o método ```.unique()```.   \n",
    "4. Quantos pacientes com menos de 18 anos foram vacinados?  \n",
    "5. Quantos estabelecimentos aplicaram vacina no Acre?\n",
    "\n",
    "\n",
    "**OBS:** O portal do DATASUS pode apresentar instabilidades, retornando um erro na segunda célula abaixo. Por este motivo está disponível uma base estática, que se for baixada para o seu *working directory* pode ser lida com este comando: ```df = pd.read_csv('registros de vacinacao covid ACRE.csv', sep=';')```.\n",
    "\n",
    "**OBS2:** Para saber qual é o seu working directory, rode no jupyter: ```!pwd```."
   ]
  },
  {
   "cell_type": "code",
   "execution_count": 7,
   "metadata": {},
   "outputs": [],
   "source": [
    "arquivo = 'https://s3.sa-east-1.amazonaws.com/ckan.saude.gov.br/SIPNI/COVID/uf/uf%3DAC/part-00000-ffba3962-b982-4509-b9ed-ca9a52b9336b.c000.csv'"
   ]
  },
  {
   "cell_type": "code",
   "execution_count": 8,
   "metadata": {},
   "outputs": [],
   "source": [
    "# 1) Sua solução aqui\n",
    "df = pd.read_csv(arquivo, sep=';')\n"
   ]
  },
  {
   "cell_type": "code",
   "execution_count": 9,
   "metadata": {},
   "outputs": [
    {
     "data": {
      "text/html": [
       "<div>\n",
       "<style scoped>\n",
       "    .dataframe tbody tr th:only-of-type {\n",
       "        vertical-align: middle;\n",
       "    }\n",
       "\n",
       "    .dataframe tbody tr th {\n",
       "        vertical-align: top;\n",
       "    }\n",
       "\n",
       "    .dataframe thead th {\n",
       "        text-align: right;\n",
       "    }\n",
       "</style>\n",
       "<table border=\"1\" class=\"dataframe\">\n",
       "  <thead>\n",
       "    <tr style=\"text-align: right;\">\n",
       "      <th></th>\n",
       "      <th>document_id</th>\n",
       "      <th>paciente_id</th>\n",
       "      <th>paciente_idade</th>\n",
       "      <th>paciente_dataNascimento</th>\n",
       "      <th>paciente_enumSexoBiologico</th>\n",
       "      <th>paciente_racaCor_codigo</th>\n",
       "      <th>paciente_racaCor_valor</th>\n",
       "      <th>paciente_endereco_coIbgeMunicipio</th>\n",
       "      <th>paciente_endereco_coPais</th>\n",
       "      <th>paciente_endereco_nmMunicipio</th>\n",
       "      <th>...</th>\n",
       "      <th>vacina_categoria_codigo</th>\n",
       "      <th>vacina_categoria_nome</th>\n",
       "      <th>vacina_lote</th>\n",
       "      <th>vacina_fabricante_nome</th>\n",
       "      <th>vacina_fabricante_referencia</th>\n",
       "      <th>vacina_dataAplicacao</th>\n",
       "      <th>vacina_descricao_dose</th>\n",
       "      <th>vacina_codigo</th>\n",
       "      <th>vacina_nome</th>\n",
       "      <th>sistema_origem</th>\n",
       "    </tr>\n",
       "  </thead>\n",
       "  <tbody>\n",
       "    <tr>\n",
       "      <th>0</th>\n",
       "      <td>6ce92aec-da47-43f2-a2c1-57d605e79150-i0b0</td>\n",
       "      <td>52aaece2e42f27e7ac2b1187b154a79946d7583fe6fd95...</td>\n",
       "      <td>29</td>\n",
       "      <td>1992-10-15</td>\n",
       "      <td>F</td>\n",
       "      <td>3</td>\n",
       "      <td>PARDA</td>\n",
       "      <td>120040.0</td>\n",
       "      <td>10.0</td>\n",
       "      <td>RIO BRANCO</td>\n",
       "      <td>...</td>\n",
       "      <td>2.0</td>\n",
       "      <td>Faixa Etária</td>\n",
       "      <td>21PVCD368Z</td>\n",
       "      <td>ASTRAZENECA/FIOCRUZ</td>\n",
       "      <td>149</td>\n",
       "      <td>2022-07-11</td>\n",
       "      <td>Reforço</td>\n",
       "      <td>85</td>\n",
       "      <td>COVID-19 ASTRAZENECA/FIOCRUZ - COVISHIELD</td>\n",
       "      <td>Novo PNI</td>\n",
       "    </tr>\n",
       "    <tr>\n",
       "      <th>1</th>\n",
       "      <td>31b66d4e-1cab-43c6-977b-371af2f8a8ac-i0b0</td>\n",
       "      <td>f604b1b980eafd3683e944b78cc5258ebce5fe34025822...</td>\n",
       "      <td>26</td>\n",
       "      <td>1995-02-27</td>\n",
       "      <td>F</td>\n",
       "      <td>3</td>\n",
       "      <td>PARDA</td>\n",
       "      <td>120025.0</td>\n",
       "      <td>10.0</td>\n",
       "      <td>EPITACIOLANDIA</td>\n",
       "      <td>...</td>\n",
       "      <td>2.0</td>\n",
       "      <td>Faixa Etária</td>\n",
       "      <td>FJ4187</td>\n",
       "      <td>PFIZER</td>\n",
       "      <td>Organization/28290</td>\n",
       "      <td>2022-01-18</td>\n",
       "      <td>2ª Dose</td>\n",
       "      <td>87</td>\n",
       "      <td>COVID-19 PFIZER - COMIRNATY</td>\n",
       "      <td>Novo PNI</td>\n",
       "    </tr>\n",
       "    <tr>\n",
       "      <th>2</th>\n",
       "      <td>60ceb9c5-aa0c-4da5-9cce-ae136ef488ae-i0b0</td>\n",
       "      <td>c646152c1f672e1f4bb58ce45806c384ac68b604a26af1...</td>\n",
       "      <td>23</td>\n",
       "      <td>1997-12-02</td>\n",
       "      <td>M</td>\n",
       "      <td>3</td>\n",
       "      <td>PARDA</td>\n",
       "      <td>120040.0</td>\n",
       "      <td>10.0</td>\n",
       "      <td>RIO BRANCO</td>\n",
       "      <td>...</td>\n",
       "      <td>2.0</td>\n",
       "      <td>Faixa Etária</td>\n",
       "      <td>214VCD056W</td>\n",
       "      <td>ASTRAZENECA/FIOCRUZ</td>\n",
       "      <td>Organization/33781055000135</td>\n",
       "      <td>2021-07-22</td>\n",
       "      <td>1ª Dose</td>\n",
       "      <td>85</td>\n",
       "      <td>COVID-19 ASTRAZENECA/FIOCRUZ - COVISHIELD</td>\n",
       "      <td>Novo PNI</td>\n",
       "    </tr>\n",
       "    <tr>\n",
       "      <th>3</th>\n",
       "      <td>31d6b821-d3e5-41ce-a9f0-edcb05377f20-i0b0</td>\n",
       "      <td>a4a55ef0b4047a03a510152b17ecdb7be9c23bcd86189a...</td>\n",
       "      <td>46</td>\n",
       "      <td>1975-01-17</td>\n",
       "      <td>M</td>\n",
       "      <td>4</td>\n",
       "      <td>AMARELA</td>\n",
       "      <td>110020.0</td>\n",
       "      <td>10.0</td>\n",
       "      <td>PORTO VELHO</td>\n",
       "      <td>...</td>\n",
       "      <td>1.0</td>\n",
       "      <td>Comorbidades</td>\n",
       "      <td>28230BD</td>\n",
       "      <td>PFIZER</td>\n",
       "      <td>Organization/00394544000851</td>\n",
       "      <td>2021-09-09</td>\n",
       "      <td>Dose Adicional</td>\n",
       "      <td>87</td>\n",
       "      <td>COVID-19 PFIZER - COMIRNATY</td>\n",
       "      <td>Novo PNI</td>\n",
       "    </tr>\n",
       "    <tr>\n",
       "      <th>4</th>\n",
       "      <td>796b186f-0a9f-4b59-a5d4-67d1ca0b11f4-i0b0</td>\n",
       "      <td>ea4f254ac0286b9828c141823284b1c32ff139623fb09b...</td>\n",
       "      <td>12</td>\n",
       "      <td>2009-09-30</td>\n",
       "      <td>M</td>\n",
       "      <td>1</td>\n",
       "      <td>BRANCA</td>\n",
       "      <td>120040.0</td>\n",
       "      <td>10.0</td>\n",
       "      <td>RIO BRANCO</td>\n",
       "      <td>...</td>\n",
       "      <td>2.0</td>\n",
       "      <td>Faixa Etária</td>\n",
       "      <td>FG3525</td>\n",
       "      <td>PFIZER</td>\n",
       "      <td>Organization/00394544000851</td>\n",
       "      <td>2021-11-17</td>\n",
       "      <td>2ª Dose</td>\n",
       "      <td>87</td>\n",
       "      <td>COVID-19 PFIZER - COMIRNATY</td>\n",
       "      <td>Novo PNI</td>\n",
       "    </tr>\n",
       "  </tbody>\n",
       "</table>\n",
       "<p>5 rows × 32 columns</p>\n",
       "</div>"
      ],
      "text/plain": [
       "                                 document_id  \\\n",
       "0  6ce92aec-da47-43f2-a2c1-57d605e79150-i0b0   \n",
       "1  31b66d4e-1cab-43c6-977b-371af2f8a8ac-i0b0   \n",
       "2  60ceb9c5-aa0c-4da5-9cce-ae136ef488ae-i0b0   \n",
       "3  31d6b821-d3e5-41ce-a9f0-edcb05377f20-i0b0   \n",
       "4  796b186f-0a9f-4b59-a5d4-67d1ca0b11f4-i0b0   \n",
       "\n",
       "                                         paciente_id  paciente_idade  \\\n",
       "0  52aaece2e42f27e7ac2b1187b154a79946d7583fe6fd95...              29   \n",
       "1  f604b1b980eafd3683e944b78cc5258ebce5fe34025822...              26   \n",
       "2  c646152c1f672e1f4bb58ce45806c384ac68b604a26af1...              23   \n",
       "3  a4a55ef0b4047a03a510152b17ecdb7be9c23bcd86189a...              46   \n",
       "4  ea4f254ac0286b9828c141823284b1c32ff139623fb09b...              12   \n",
       "\n",
       "  paciente_dataNascimento paciente_enumSexoBiologico  paciente_racaCor_codigo  \\\n",
       "0              1992-10-15                          F                        3   \n",
       "1              1995-02-27                          F                        3   \n",
       "2              1997-12-02                          M                        3   \n",
       "3              1975-01-17                          M                        4   \n",
       "4              2009-09-30                          M                        1   \n",
       "\n",
       "  paciente_racaCor_valor  paciente_endereco_coIbgeMunicipio  \\\n",
       "0                  PARDA                           120040.0   \n",
       "1                  PARDA                           120025.0   \n",
       "2                  PARDA                           120040.0   \n",
       "3                AMARELA                           110020.0   \n",
       "4                 BRANCA                           120040.0   \n",
       "\n",
       "   paciente_endereco_coPais paciente_endereco_nmMunicipio  ...  \\\n",
       "0                      10.0                    RIO BRANCO  ...   \n",
       "1                      10.0                EPITACIOLANDIA  ...   \n",
       "2                      10.0                    RIO BRANCO  ...   \n",
       "3                      10.0                   PORTO VELHO  ...   \n",
       "4                      10.0                    RIO BRANCO  ...   \n",
       "\n",
       "  vacina_categoria_codigo vacina_categoria_nome  vacina_lote  \\\n",
       "0                     2.0          Faixa Etária   21PVCD368Z   \n",
       "1                     2.0          Faixa Etária       FJ4187   \n",
       "2                     2.0          Faixa Etária   214VCD056W   \n",
       "3                     1.0          Comorbidades      28230BD   \n",
       "4                     2.0          Faixa Etária       FG3525   \n",
       "\n",
       "  vacina_fabricante_nome  vacina_fabricante_referencia vacina_dataAplicacao  \\\n",
       "0    ASTRAZENECA/FIOCRUZ                           149           2022-07-11   \n",
       "1                 PFIZER            Organization/28290           2022-01-18   \n",
       "2    ASTRAZENECA/FIOCRUZ   Organization/33781055000135           2021-07-22   \n",
       "3                 PFIZER   Organization/00394544000851           2021-09-09   \n",
       "4                 PFIZER   Organization/00394544000851           2021-11-17   \n",
       "\n",
       "  vacina_descricao_dose  vacina_codigo  \\\n",
       "0               Reforço             85   \n",
       "1               2ª Dose             87   \n",
       "2               1ª Dose             85   \n",
       "3        Dose Adicional             87   \n",
       "4               2ª Dose             87   \n",
       "\n",
       "                                 vacina_nome sistema_origem  \n",
       "0  COVID-19 ASTRAZENECA/FIOCRUZ - COVISHIELD       Novo PNI  \n",
       "1                COVID-19 PFIZER - COMIRNATY       Novo PNI  \n",
       "2  COVID-19 ASTRAZENECA/FIOCRUZ - COVISHIELD       Novo PNI  \n",
       "3                COVID-19 PFIZER - COMIRNATY       Novo PNI  \n",
       "4                COVID-19 PFIZER - COMIRNATY       Novo PNI  \n",
       "\n",
       "[5 rows x 32 columns]"
      ]
     },
     "execution_count": 9,
     "metadata": {},
     "output_type": "execute_result"
    }
   ],
   "source": [
    "df.head()"
   ]
  },
  {
   "cell_type": "code",
   "execution_count": 10,
   "metadata": {},
   "outputs": [
    {
     "name": "stdout",
     "output_type": "stream",
     "text": [
      "<class 'pandas.core.frame.DataFrame'>\n",
      "RangeIndex: 363151 entries, 0 to 363150\n",
      "Data columns (total 32 columns):\n",
      " #   Column                                    Non-Null Count   Dtype  \n",
      "---  ------                                    --------------   -----  \n",
      " 0   document_id                               363151 non-null  object \n",
      " 1   paciente_id                               363151 non-null  object \n",
      " 2   paciente_idade                            363151 non-null  int64  \n",
      " 3   paciente_dataNascimento                   363151 non-null  object \n",
      " 4   paciente_enumSexoBiologico                363151 non-null  object \n",
      " 5   paciente_racaCor_codigo                   363151 non-null  int64  \n",
      " 6   paciente_racaCor_valor                    363151 non-null  object \n",
      " 7   paciente_endereco_coIbgeMunicipio         360908 non-null  float64\n",
      " 8   paciente_endereco_coPais                  360914 non-null  float64\n",
      " 9   paciente_endereco_nmMunicipio             360913 non-null  object \n",
      " 10  paciente_endereco_nmPais                  360914 non-null  object \n",
      " 11  paciente_endereco_uf                      360908 non-null  object \n",
      " 12  paciente_endereco_cep                     309987 non-null  float64\n",
      " 13  paciente_nacionalidade_enumNacionalidade  362975 non-null  object \n",
      " 14  estabelecimento_valor                     363151 non-null  int64  \n",
      " 15  estabelecimento_razaoSocial               363151 non-null  object \n",
      " 16  estalecimento_noFantasia                  363151 non-null  object \n",
      " 17  estabelecimento_municipio_codigo          363151 non-null  int64  \n",
      " 18  estabelecimento_municipio_nome            363151 non-null  object \n",
      " 19  estabelecimento_uf                        363151 non-null  object \n",
      " 20  vacina_grupoAtendimento_codigo            363138 non-null  float64\n",
      " 21  vacina_grupoAtendimento_nome              362172 non-null  object \n",
      " 22  vacina_categoria_codigo                   342760 non-null  float64\n",
      " 23  vacina_categoria_nome                     342760 non-null  object \n",
      " 24  vacina_lote                               363151 non-null  object \n",
      " 25  vacina_fabricante_nome                    363151 non-null  object \n",
      " 26  vacina_fabricante_referencia              360975 non-null  object \n",
      " 27  vacina_dataAplicacao                      363151 non-null  object \n",
      " 28  vacina_descricao_dose                     363151 non-null  object \n",
      " 29  vacina_codigo                             363151 non-null  int64  \n",
      " 30  vacina_nome                               363142 non-null  object \n",
      " 31  sistema_origem                            362752 non-null  object \n",
      "dtypes: float64(5), int64(5), object(22)\n",
      "memory usage: 88.7+ MB\n"
     ]
    }
   ],
   "source": [
    "df.info()\n"
   ]
  },
  {
   "cell_type": "code",
   "execution_count": 11,
   "metadata": {},
   "outputs": [
    {
     "data": {
      "text/plain": [
       "363151"
      ]
     },
     "execution_count": 11,
     "metadata": {},
     "output_type": "execute_result"
    }
   ],
   "source": [
    "df.shape[0]"
   ]
  },
  {
   "cell_type": "code",
   "execution_count": 12,
   "metadata": {},
   "outputs": [
    {
     "data": {
      "text/plain": [
       "300713"
      ]
     },
     "execution_count": 12,
     "metadata": {},
     "output_type": "execute_result"
    }
   ],
   "source": [
    "# 2) \n",
    "df['paciente_id'].nunique()"
   ]
  },
  {
   "cell_type": "code",
   "execution_count": 13,
   "metadata": {},
   "outputs": [
    {
     "data": {
      "text/plain": [
       "70179"
      ]
     },
     "execution_count": 13,
     "metadata": {},
     "output_type": "execute_result"
    }
   ],
   "source": [
    "# 3) \n",
    "primeira_dose = df['vacina_descricao_dose'].unique()[0]\n",
    "df['paciente_id'].loc[df['vacina_descricao_dose'] == primeira_dose].nunique()"
   ]
  },
  {
   "cell_type": "code",
   "execution_count": 14,
   "metadata": {},
   "outputs": [
    {
     "data": {
      "text/plain": [
       "70179"
      ]
     },
     "execution_count": 14,
     "metadata": {},
     "output_type": "execute_result"
    }
   ],
   "source": [
    "# 3) solução alternativa\n",
    "primeira_dose = df['vacina_descricao_dose'].unique()[0]\n",
    "df_primeira_dose = df[df['vacina_descricao_dose'] == primeira_dose]\n",
    "df_primeira_dose['paciente_id'].nunique()"
   ]
  },
  {
   "cell_type": "code",
   "execution_count": 15,
   "metadata": {},
   "outputs": [
    {
     "data": {
      "text/plain": [
       "58613"
      ]
     },
     "execution_count": 15,
     "metadata": {},
     "output_type": "execute_result"
    }
   ],
   "source": [
    "# 4) \n",
    "df_menor = df[df[\"paciente_idade\"]<18]\n",
    "df_menor['paciente_id'].nunique()"
   ]
  },
  {
   "cell_type": "code",
   "execution_count": 16,
   "metadata": {},
   "outputs": [
    {
     "data": {
      "text/plain": [
       "54"
      ]
     },
     "execution_count": 16,
     "metadata": {},
     "output_type": "execute_result"
    }
   ],
   "source": [
    "# 5)\n",
    "df['estabelecimento_razaoSocial'].nunique()"
   ]
  },
  {
   "cell_type": "markdown",
   "metadata": {},
   "source": [
    "## 4) Vacinação II\n",
    "Gere um *DataFrame* que contenha somente os estabelecimentos que aplicaram vcinas a menores de 18 anos. Nesse *DataFrame* devem conter somente os dados dos estabelecimentos, mais uma coluna sendo a quantidade de vacinas que o estabelecimento aplicou a menores de 18 anos.  \n",
    "  \n",
    "1. crie uma cópia do *DataFrame* original, contendo somente os registros de vacinas realizadas a menores de 18 anos.  \n",
    "2. crie uma lista das colunas desse *DataFrame* com o atributo de *DataFrame* **.columns()**  \n",
    "3. Nesse *DataFrame* faça uma contagem do campo ```vacina_categoria_nome```.\n",
    "3. a partir da lista de colunas, escolha somente aquelas que são referentes ao estabelecimento, faça uma lista com esses valores.  \n",
    "4. usando o método *.loc*, selecione somente essas variáveis  \n",
    "5. Aplique o método **.drop_duplicates** e crie uma lista com uma linha para cada estabelecimento, com os dados do estabelecimento  "
   ]
  },
  {
   "cell_type": "code",
   "execution_count": 17,
   "metadata": {},
   "outputs": [],
   "source": [
    "# 1) \n",
    "df_menor = df[df[\"paciente_idade\"]<18].copy()"
   ]
  },
  {
   "cell_type": "code",
   "execution_count": 18,
   "metadata": {},
   "outputs": [
    {
     "data": {
      "text/plain": [
       "Index(['document_id', 'paciente_id', 'paciente_idade',\n",
       "       'paciente_dataNascimento', 'paciente_enumSexoBiologico',\n",
       "       'paciente_racaCor_codigo', 'paciente_racaCor_valor',\n",
       "       'paciente_endereco_coIbgeMunicipio', 'paciente_endereco_coPais',\n",
       "       'paciente_endereco_nmMunicipio', 'paciente_endereco_nmPais',\n",
       "       'paciente_endereco_uf', 'paciente_endereco_cep',\n",
       "       'paciente_nacionalidade_enumNacionalidade', 'estabelecimento_valor',\n",
       "       'estabelecimento_razaoSocial', 'estalecimento_noFantasia',\n",
       "       'estabelecimento_municipio_codigo', 'estabelecimento_municipio_nome',\n",
       "       'estabelecimento_uf', 'vacina_grupoAtendimento_codigo',\n",
       "       'vacina_grupoAtendimento_nome', 'vacina_categoria_codigo',\n",
       "       'vacina_categoria_nome', 'vacina_lote', 'vacina_fabricante_nome',\n",
       "       'vacina_fabricante_referencia', 'vacina_dataAplicacao',\n",
       "       'vacina_descricao_dose', 'vacina_codigo', 'vacina_nome',\n",
       "       'sistema_origem'],\n",
       "      dtype='object')"
      ]
     },
     "execution_count": 18,
     "metadata": {},
     "output_type": "execute_result"
    }
   ],
   "source": [
    "# 2) \n",
    "df_menor.columns"
   ]
  },
  {
   "cell_type": "code",
   "execution_count": 19,
   "metadata": {},
   "outputs": [
    {
     "data": {
      "text/plain": [
       "vacina_categoria_nome\n",
       "Faixa Etária                                      37533\n",
       "Outros                                             3701\n",
       "Povos Indígenas                                    3090\n",
       "Povos e Comunidades Tradicionais                    679\n",
       "Trabalhadores de Saúde                              238\n",
       "População Privada de Liberdade                       50\n",
       "Comorbidades                                         42\n",
       "Gestantes                                            28\n",
       "Pessoas com Deficiência                               5\n",
       "Pessoas Institucionalizadas                           3\n",
       "Pessoas de 60 anos ou mais institucionalizadas        1\n",
       "Puérperas                                             1\n",
       "Trabalhadores da Educação                             1\n",
       "Name: count, dtype: int64"
      ]
     },
     "execution_count": 19,
     "metadata": {},
     "output_type": "execute_result"
    }
   ],
   "source": [
    "# 3)\n",
    "df_menor['vacina_categoria_nome'].value_counts()"
   ]
  },
  {
   "cell_type": "code",
   "execution_count": 20,
   "metadata": {},
   "outputs": [],
   "source": [
    "# 4)\n",
    "lista_variaveis = ['estabelecimento_valor',\n",
    "       'estabelecimento_razaoSocial', 'estalecimento_noFantasia',\n",
    "       'estabelecimento_municipio_codigo', 'estabelecimento_municipio_nome',\n",
    "       'estabelecimento_uf']\n",
    "df_menor_lista = df_menor.loc[:,lista_variaveis]"
   ]
  },
  {
   "cell_type": "code",
   "execution_count": 21,
   "metadata": {},
   "outputs": [
    {
     "data": {
      "text/plain": [
       "(158, 6)"
      ]
     },
     "execution_count": 21,
     "metadata": {},
     "output_type": "execute_result"
    }
   ],
   "source": [
    "# 5)\n",
    "df_menor_lista = df_menor_lista.drop_duplicates()\n",
    "df_menor_lista.shape"
   ]
  }
 ],
 "metadata": {
  "kernelspec": {
   "display_name": "Python 3",
   "language": "python",
   "name": "python3"
  },
  "language_info": {
   "codemirror_mode": {
    "name": "ipython",
    "version": 3
   },
   "file_extension": ".py",
   "mimetype": "text/x-python",
   "name": "python",
   "nbconvert_exporter": "python",
   "pygments_lexer": "ipython3",
   "version": "3.11.4"
  },
  "toc": {
   "base_numbering": 1,
   "nav_menu": {},
   "number_sections": false,
   "sideBar": true,
   "skip_h1_title": true,
   "title_cell": "Índice",
   "title_sidebar": "Conteúdo",
   "toc_cell": false,
   "toc_position": {},
   "toc_section_display": true,
   "toc_window_display": false
  },
  "varInspector": {
   "cols": {
    "lenName": 16,
    "lenType": 16,
    "lenVar": 40
   },
   "kernels_config": {
    "python": {
     "delete_cmd_postfix": "",
     "delete_cmd_prefix": "del ",
     "library": "var_list.py",
     "varRefreshCmd": "print(var_dic_list())"
    },
    "r": {
     "delete_cmd_postfix": ") ",
     "delete_cmd_prefix": "rm(",
     "library": "var_list.r",
     "varRefreshCmd": "cat(var_dic_list()) "
    }
   },
   "types_to_exclude": [
    "module",
    "function",
    "builtin_function_or_method",
    "instance",
    "_Feature"
   ],
   "window_display": false
  }
 },
 "nbformat": 4,
 "nbformat_minor": 4
}
