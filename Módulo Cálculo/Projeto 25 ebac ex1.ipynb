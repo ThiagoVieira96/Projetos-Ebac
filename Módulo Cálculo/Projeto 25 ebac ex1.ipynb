{
 "cells": [
  {
   "cell_type": "markdown",
   "metadata": {},
   "source": [
    "# Cálculo - Tarefa 01\n",
    "\n",
    "1. Marque quais desses métodos/algoritmos muito populares em ciência de dados são baseados no uso de derivada:\n",
    "\n",
    "    1. Método Mínimos Quadrados\n",
    "    2. Gradiente descendente\n",
    "    3. Newton Raphson\n",
    "    4. CART (Árvore de decisão)"
   ]
  },
  {
   "cell_type": "markdown",
   "metadata": {},
   "source": [
    "Dos algoritmos mostrados acima, somente o quarto (CART) não é baseado no uso de derivada, sendo que todos os outros utilizam essa técnica."
   ]
  },
  {
   "cell_type": "markdown",
   "metadata": {},
   "source": [
    "2. Dada uma base de dados com uma variável resposta $y$ e um conjunto de variáveis explicativas. Considere uma estrutura de um modelo de regressão. Explique com suas palavras por que não é possível obter parâmetros que forneçam um erro quadrático médio (EQM) menor que o obtido com estimadores de mínimos quadrados."
   ]
  },
  {
   "cell_type": "markdown",
   "metadata": {},
   "source": [
    "Quando fazemos uma regressão, supomos que o valor de y está em uma reta que possa ser escrita da seguinte maneira:\n",
    "\n",
    "$$ y = \\alpha x + \\beta + \\epsilon $$\n",
    "- onde &epsilon; é o erro.\n",
    "Queremos montar uma reta que explique corretamente este y, assim, fazemos previsões com base nos valores de x observados e montamos a seguinte regressão:\n",
    "$$ y_i = a x_i + b + e_i $$\n",
    "Com o métodos dos mínimos quadrados, queremos basicamente fazer com que a soma dos quadrados dos erros seja a menor possível, assim,<br> queremos minimizar a seguinte somatória:\n",
    "$$S = \\sum_{i=1}^{n} (e_{i})^{2}$$\n",
    "Onde, substituindo $ e_i$, temos:\n",
    "$$ S(a,b) = \\sum_{i=1}^{n} (y_i - ax_i - b)$$\n",
    "Para isso, derivamos S com relação à a e b, e igualamos essa derivada a zero.<br> Por definição, uma derivada igual a zero significa que o coeficiente<br> angular da reta tangente àquele ponto será zero, ou seja, esse será um ponto de máximo ou de mínimo,<br> como a somatória de erros quadrados não possui valor máximo definido, este ponto encontrado pela derivada só pode ser o ponto de mínimo.<br>\n",
    "Logo, pela própria definição de derivada, não é possível encontrar pontos que forneçam um EQM menor que o obtido por este método.<br>\n",
    "Ou seja, se plotarmos um gráfico 3D com os valore de a, b e do EQM, os pontos nesta figura onde o EQM terá o menor valor são os pontos obtidos pelo<br> método dos mínimos quadrados."
   ]
  }
 ],
 "metadata": {
  "kernelspec": {
   "display_name": "Python 3",
   "language": "python",
   "name": "python3"
  },
  "language_info": {
   "codemirror_mode": {
    "name": "ipython",
    "version": 3
   },
   "file_extension": ".py",
   "mimetype": "text/x-python",
   "name": "python",
   "nbconvert_exporter": "python",
   "pygments_lexer": "ipython3",
   "version": "3.8.5"
  },
  "toc": {
   "base_numbering": 1,
   "nav_menu": {},
   "number_sections": true,
   "sideBar": true,
   "skip_h1_title": true,
   "title_cell": "Índice",
   "title_sidebar": "Conteúdo",
   "toc_cell": false,
   "toc_position": {},
   "toc_section_display": true,
   "toc_window_display": false
  },
  "varInspector": {
   "cols": {
    "lenName": 16,
    "lenType": 16,
    "lenVar": 40
   },
   "kernels_config": {
    "python": {
     "delete_cmd_postfix": "",
     "delete_cmd_prefix": "del ",
     "library": "var_list.py",
     "varRefreshCmd": "print(var_dic_list())"
    },
    "r": {
     "delete_cmd_postfix": ") ",
     "delete_cmd_prefix": "rm(",
     "library": "var_list.r",
     "varRefreshCmd": "cat(var_dic_list()) "
    }
   },
   "types_to_exclude": [
    "module",
    "function",
    "builtin_function_or_method",
    "instance",
    "_Feature"
   ],
   "window_display": false
  }
 },
 "nbformat": 4,
 "nbformat_minor": 4
}
