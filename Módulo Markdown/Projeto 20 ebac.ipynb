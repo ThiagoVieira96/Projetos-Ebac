{
 "cells": [
  {
   "cell_type": "markdown",
   "metadata": {},
   "source": [
    "# Fórmula de Bhaskara\n",
    "\n",
    "A solução para uma função de segundo grau depende das suas raízes (valores de x). Como já vimos, os coeficientes<br>\n",
    "precisam ser números reais e o angular diferente de zero. Sendo assim, temos a seguinte fórmula de Bhaskara:\n",
    "\n",
    "$$x = \\frac{-b \\pm \\sqrt{b^2 -4.a.c}}{2.a} $$\n",
    "<center><small> Fórmula de Bhaskara</small></center>\n",
    "\n",
    "Para melhor compreensão o seu calculo é dividido em duas partes: discriminante da equação e operações para<br> determinar as raízes.\n",
    "\n",
    "**Discriminante**\n",
    "\n",
    "A figura dentro da raiz da fórmula de Bhaskara é nomeada de discriminante. Seu símbolo é a letra grega delta e <br> apresenta a determinada fórmula:\n",
    "\n",
    "$$\\Delta = b^2 -4.a.c $$\n",
    "<center><small> Fórmula da discriminante</small></center>\n",
    "\n",
    "- Se o delta for maior que zero, a equação terá dois valores reais e distintos.\n",
    "- Se o delta for igual a zero, a equação terá somente um valor real ou dois resultados iguais.\n",
    "- Se o delta for menor que zero, a equação não possuirá valores reais."
   ]
  }
 ],
 "metadata": {
  "language_info": {
   "name": "python"
  }
 },
 "nbformat": 4,
 "nbformat_minor": 2
}
