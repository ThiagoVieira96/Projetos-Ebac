{
 "cells": [
  {
   "cell_type": "markdown",
   "metadata": {},
   "source": [
    "# EBAC - Regressão II - regressão múltipla\n",
    "\n",
    "## Tarefa I"
   ]
  },
  {
   "cell_type": "markdown",
   "metadata": {},
   "source": [
    "#### Previsão de renda II\n",
    "\n",
    "Vamos continuar trabalhando com a base 'previsao_de_renda.csv', que é a base do seu próximo projeto. Vamos usar os recursos que vimos até aqui nesta base.\n",
    "\n",
    "|variavel|descrição|\n",
    "|-|-|\n",
    "|data_ref                | Data de referência de coleta das variáveis |\n",
    "|index                   | Código de identificação do cliente|\n",
    "|sexo                    | Sexo do cliente|\n",
    "|posse_de_veiculo        | Indica se o cliente possui veículo|\n",
    "|posse_de_imovel         | Indica se o cliente possui imóvel|\n",
    "|qtd_filhos              | Quantidade de filhos do cliente|\n",
    "|tipo_renda              | Tipo de renda do cliente|\n",
    "|educacao                | Grau de instrução do cliente|\n",
    "|estado_civil            | Estado civil do cliente|\n",
    "|tipo_residencia         | Tipo de residência do cliente (própria, alugada etc)|\n",
    "|idade                   | Idade do cliente|\n",
    "|tempo_emprego           | Tempo no emprego atual|\n",
    "|qt_pessoas_residencia   | Quantidade de pessoas que moram na residência|\n",
    "|renda                   | Renda em reais|"
   ]
  },
  {
   "cell_type": "code",
   "execution_count": 2,
   "metadata": {},
   "outputs": [],
   "source": [
    "import pandas as pd\n",
    "import numpy as np\n",
    "import statsmodels.formula.api as smf\n",
    "import statsmodels.api as sm\n",
    "from sklearn.model_selection import train_test_split\n",
    "from sklearn.linear_model import Ridge\n",
    "from sklearn.metrics import r2_score\n",
    "from sklearn.tree import DecisionTreeRegressor"
   ]
  },
  {
   "cell_type": "code",
   "execution_count": 5,
   "metadata": {},
   "outputs": [],
   "source": [
    "df = pd.read_csv('previsao_de_renda.csv')"
   ]
  },
  {
   "cell_type": "code",
   "execution_count": 6,
   "metadata": {},
   "outputs": [
    {
     "name": "stdout",
     "output_type": "stream",
     "text": [
      "<class 'pandas.core.frame.DataFrame'>\n",
      "RangeIndex: 15000 entries, 0 to 14999\n",
      "Data columns (total 15 columns):\n",
      " #   Column                 Non-Null Count  Dtype  \n",
      "---  ------                 --------------  -----  \n",
      " 0   Unnamed: 0             15000 non-null  int64  \n",
      " 1   data_ref               15000 non-null  object \n",
      " 2   id_cliente             15000 non-null  int64  \n",
      " 3   sexo                   15000 non-null  object \n",
      " 4   posse_de_veiculo       15000 non-null  bool   \n",
      " 5   posse_de_imovel        15000 non-null  bool   \n",
      " 6   qtd_filhos             15000 non-null  int64  \n",
      " 7   tipo_renda             15000 non-null  object \n",
      " 8   educacao               15000 non-null  object \n",
      " 9   estado_civil           15000 non-null  object \n",
      " 10  tipo_residencia        15000 non-null  object \n",
      " 11  idade                  15000 non-null  int64  \n",
      " 12  tempo_emprego          12427 non-null  float64\n",
      " 13  qt_pessoas_residencia  15000 non-null  float64\n",
      " 14  renda                  15000 non-null  float64\n",
      "dtypes: bool(2), float64(3), int64(4), object(6)\n",
      "memory usage: 1.5+ MB\n"
     ]
    }
   ],
   "source": [
    "df.info()"
   ]
  },
  {
   "cell_type": "code",
   "execution_count": 7,
   "metadata": {},
   "outputs": [
    {
     "name": "stdout",
     "output_type": "stream",
     "text": [
      "<class 'pandas.core.frame.DataFrame'>\n",
      "RangeIndex: 15000 entries, 0 to 14999\n",
      "Data columns (total 12 columns):\n",
      " #   Column                 Non-Null Count  Dtype  \n",
      "---  ------                 --------------  -----  \n",
      " 0   sexo                   15000 non-null  object \n",
      " 1   posse_de_veiculo       15000 non-null  bool   \n",
      " 2   posse_de_imovel        15000 non-null  bool   \n",
      " 3   qtd_filhos             15000 non-null  int64  \n",
      " 4   tipo_renda             15000 non-null  object \n",
      " 5   educacao               15000 non-null  object \n",
      " 6   estado_civil           15000 non-null  object \n",
      " 7   tipo_residencia        15000 non-null  object \n",
      " 8   idade                  15000 non-null  int64  \n",
      " 9   tempo_emprego          12427 non-null  float64\n",
      " 10  qt_pessoas_residencia  15000 non-null  float64\n",
      " 11  renda                  15000 non-null  float64\n",
      "dtypes: bool(2), float64(3), int64(2), object(5)\n",
      "memory usage: 1.2+ MB\n"
     ]
    }
   ],
   "source": [
    "#Antes de iniciar os exercícios, vamos excluir as colunas 'Unnamed: 0', 'data_ref' e 'id_cliente', pois elas irão apenas atrapalhar nossa análise.\n",
    "colunas_deletar = ['Unnamed: 0', 'data_ref', 'id_cliente']\n",
    "df = df.drop(columns= colunas_deletar)\n",
    "df.info()"
   ]
  },
  {
   "cell_type": "code",
   "execution_count": 8,
   "metadata": {},
   "outputs": [],
   "source": [
    "df_encoded = pd.get_dummies(df, columns=['sexo', 'tipo_renda', 'educacao', 'estado_civil', 'tipo_residencia'], drop_first=True)"
   ]
  },
  {
   "cell_type": "code",
   "execution_count": 9,
   "metadata": {},
   "outputs": [
    {
     "data": {
      "text/plain": [
       "posse_de_veiculo                    bool\n",
       "posse_de_imovel                     bool\n",
       "qtd_filhos                         int64\n",
       "idade                              int64\n",
       "tempo_emprego                    float64\n",
       "qt_pessoas_residencia            float64\n",
       "renda                            float64\n",
       "sexo_M                              bool\n",
       "tipo_renda_Bolsista                 bool\n",
       "tipo_renda_Empresário               bool\n",
       "tipo_renda_Pensionista              bool\n",
       "tipo_renda_Servidor público         bool\n",
       "educacao_Pós graduação              bool\n",
       "educacao_Secundário                 bool\n",
       "educacao_Superior completo          bool\n",
       "educacao_Superior incompleto        bool\n",
       "estado_civil_Separado               bool\n",
       "estado_civil_Solteiro               bool\n",
       "estado_civil_União                  bool\n",
       "estado_civil_Viúvo                  bool\n",
       "tipo_residencia_Casa                bool\n",
       "tipo_residencia_Com os pais         bool\n",
       "tipo_residencia_Comunitário         bool\n",
       "tipo_residencia_Estúdio             bool\n",
       "tipo_residencia_Governamental       bool\n",
       "dtype: object"
      ]
     },
     "execution_count": 9,
     "metadata": {},
     "output_type": "execute_result"
    }
   ],
   "source": [
    "df_encoded.dtypes"
   ]
  },
  {
   "cell_type": "code",
   "execution_count": 10,
   "metadata": {},
   "outputs": [
    {
     "data": {
      "text/plain": [
       "Index(['posse_de_veiculo', 'posse_de_imovel', 'qtd_filhos', 'idade',\n",
       "       'tempo_emprego', 'qt_pessoas_residencia', 'renda', 'sexo_M',\n",
       "       'tipo_renda_Bolsista', 'tipo_renda_Empresário',\n",
       "       'tipo_renda_Pensionista', 'tipo_renda_Servidor público',\n",
       "       'educacao_Pós graduação', 'educacao_Secundário',\n",
       "       'educacao_Superior completo', 'educacao_Superior incompleto',\n",
       "       'estado_civil_Separado', 'estado_civil_Solteiro', 'estado_civil_União',\n",
       "       'estado_civil_Viúvo', 'tipo_residencia_Casa',\n",
       "       'tipo_residencia_Com os pais', 'tipo_residencia_Comunitário',\n",
       "       'tipo_residencia_Estúdio', 'tipo_residencia_Governamental'],\n",
       "      dtype='object')"
      ]
     },
     "execution_count": 10,
     "metadata": {},
     "output_type": "execute_result"
    }
   ],
   "source": [
    "df_encoded.columns"
   ]
  },
  {
   "cell_type": "code",
   "execution_count": 11,
   "metadata": {},
   "outputs": [],
   "source": [
    "df_encoded[['posse_de_veiculo', 'posse_de_imovel', 'qtd_filhos', 'idade',\n",
    "         'sexo_M',\n",
    "       'tipo_renda_Bolsista', 'tipo_renda_Empresário',\n",
    "       'tipo_renda_Pensionista', 'tipo_renda_Servidor público',\n",
    "       'educacao_Pós graduação', 'educacao_Secundário',\n",
    "       'educacao_Superior completo', 'educacao_Superior incompleto',\n",
    "       'estado_civil_Separado', 'estado_civil_Solteiro', 'estado_civil_União',\n",
    "       'estado_civil_Viúvo', 'tipo_residencia_Casa',\n",
    "       'tipo_residencia_Com os pais', 'tipo_residencia_Comunitário',\n",
    "       'tipo_residencia_Estúdio', 'tipo_residencia_Governamental']] = df_encoded[['posse_de_veiculo', 'posse_de_imovel', 'qtd_filhos', 'idade',\n",
    "         'sexo_M',\n",
    "       'tipo_renda_Bolsista', 'tipo_renda_Empresário',\n",
    "       'tipo_renda_Pensionista', 'tipo_renda_Servidor público',\n",
    "       'educacao_Pós graduação', 'educacao_Secundário',\n",
    "       'educacao_Superior completo', 'educacao_Superior incompleto',\n",
    "       'estado_civil_Separado', 'estado_civil_Solteiro', 'estado_civil_União',\n",
    "       'estado_civil_Viúvo', 'tipo_residencia_Casa',\n",
    "       'tipo_residencia_Com os pais', 'tipo_residencia_Comunitário',\n",
    "       'tipo_residencia_Estúdio', 'tipo_residencia_Governamental']].astype(int)"
   ]
  },
  {
   "cell_type": "code",
   "execution_count": 12,
   "metadata": {},
   "outputs": [
    {
     "data": {
      "text/plain": [
       "posse_de_veiculo                   int32\n",
       "posse_de_imovel                    int32\n",
       "qtd_filhos                         int32\n",
       "idade                              int32\n",
       "tempo_emprego                    float64\n",
       "qt_pessoas_residencia            float64\n",
       "renda                            float64\n",
       "sexo_M                             int32\n",
       "tipo_renda_Bolsista                int32\n",
       "tipo_renda_Empresário              int32\n",
       "tipo_renda_Pensionista             int32\n",
       "tipo_renda_Servidor público        int32\n",
       "educacao_Pós graduação             int32\n",
       "educacao_Secundário                int32\n",
       "educacao_Superior completo         int32\n",
       "educacao_Superior incompleto       int32\n",
       "estado_civil_Separado              int32\n",
       "estado_civil_Solteiro              int32\n",
       "estado_civil_União                 int32\n",
       "estado_civil_Viúvo                 int32\n",
       "tipo_residencia_Casa               int32\n",
       "tipo_residencia_Com os pais        int32\n",
       "tipo_residencia_Comunitário        int32\n",
       "tipo_residencia_Estúdio            int32\n",
       "tipo_residencia_Governamental      int32\n",
       "dtype: object"
      ]
     },
     "execution_count": 12,
     "metadata": {},
     "output_type": "execute_result"
    }
   ],
   "source": [
    "df_encoded.dtypes"
   ]
  },
  {
   "cell_type": "markdown",
   "metadata": {},
   "source": [
    "1. Separe a base em treinamento e teste (25% para teste, 75% para treinamento).\n",
    "2. Rode uma regularização *ridge* com alpha = [0, 0.001, 0.005, 0.01, 0.05, 0.1] e avalie o $R^2$ na base de testes. Qual o melhor modelo?\n",
    "3. Faça o mesmo que no passo 2, com uma regressão *LASSO*. Qual método chega a um melhor resultado?\n",
    "4. Rode um modelo *stepwise*. Avalie o $R^2$ na vase de testes. Qual o melhor resultado?\n",
    "5. Compare os parâmetros e avalie eventuais diferenças. Qual modelo você acha o melhor de todos?\n",
    "6. Partindo dos modelos que você ajustou, tente melhorar o $R^2$ na base de testes. Use a criatividade, veja se consegue inserir alguma transformação ou combinação de variáveis.\n",
    "7. Ajuste uma árvore de regressão e veja se consegue um $R^2$ melhor com ela."
   ]
  },
  {
   "cell_type": "code",
   "execution_count": 33,
   "metadata": {},
   "outputs": [
    {
     "name": "stderr",
     "output_type": "stream",
     "text": [
      "C:\\Users\\samsun\\AppData\\Local\\Temp\\ipykernel_19048\\117927091.py:2: FutureWarning: DataFrame.fillna with 'method' is deprecated and will raise in a future version. Use obj.ffill() or obj.bfill() instead.\n",
      "  X = df_encoded.drop(columns= ['renda']).fillna(method='bfill').copy()\n"
     ]
    }
   ],
   "source": [
    "#1.\n",
    "X = df_encoded.drop(columns= ['renda']).fillna(method='bfill').copy()\n",
    "y = df_encoded['renda']"
   ]
  },
  {
   "cell_type": "code",
   "execution_count": 34,
   "metadata": {},
   "outputs": [],
   "source": [
    "X_train, X_teste, y_train, y_teste = train_test_split(X,y, test_size = 0.25)"
   ]
  },
  {
   "cell_type": "code",
   "execution_count": 31,
   "metadata": {},
   "outputs": [],
   "source": [
    "#2. Neste caso usaremos o método 'elastic_net', sendo que iremos variar apenas o valor de L1_wt para alternar entre ridge e lasso.\n",
    "alphas = [0, 0.001, 0.005, 0.01, 0.05, 0.1]\n",
    "r_square_ridge = []\n",
    "modelo = 'renda ~  C(sexo) + posse_de_veiculo + posse_de_imovel + qtd_filhos + C(tipo_renda, Treatment(\"Assalariado\")) + C(educacao, Treatment(\"Secundário\")) + C(estado_civil, Treatment(\"Casado\")) + C(tipo_residencia) + idade + tempo_emprego + qt_pessoas_residencia'\n",
    "\n",
    "for alpha in alphas:\n",
    "    # Criar e ajustar um modelo Ridge\n",
    "    ridge_reg = Ridge(alpha=alpha)\n",
    "    ridge_reg.fit(X_train, y_train)\n",
    "    \n",
    "    # Fazer previsões no conjunto de teste\n",
    "    y_pred = ridge_reg.predict(X_teste)\n",
    "    \n",
    "    # Calcular o R-quadrado\n",
    "    r2 = r2_score(y_teste, y_pred)\n",
    "    r_square_ridge.append(r2)\n",
    "    "
   ]
  },
  {
   "cell_type": "code",
   "execution_count": 35,
   "metadata": {},
   "outputs": [
    {
     "data": {
      "text/plain": [
       "[0.21576937834333187,\n",
       " 0.21576938563191328,\n",
       " 0.2157694147508329,\n",
       " 0.21576945106995837,\n",
       " 0.21576973846864944,\n",
       " 0.2157700899583742]"
      ]
     },
     "execution_count": 35,
     "metadata": {},
     "output_type": "execute_result"
    }
   ],
   "source": [
    "r_square_ridge"
   ]
  },
  {
   "cell_type": "code",
   "execution_count": 17,
   "metadata": {},
   "outputs": [
    {
     "data": {
      "text/plain": [
       "0.22786322868134923"
      ]
     },
     "execution_count": 17,
     "metadata": {},
     "output_type": "execute_result"
    }
   ],
   "source": [
    "max(r_square_ridge)"
   ]
  },
  {
   "cell_type": "markdown",
   "metadata": {},
   "source": [
    "O maior valor de r-quadrado neste modelo é obtido com alpha = 0.1."
   ]
  },
  {
   "cell_type": "code",
   "execution_count": 20,
   "metadata": {},
   "outputs": [],
   "source": [
    "#3. Faremos o mesmo processo, mas agora com o método LASSO\n",
    "r_square_lasso = []\n",
    "\n",
    "for alpha in alphas:\n",
    "    md = smf.ols(modelo, data= df)\n",
    "    reg = md.fit_regularized(method = 'elastic_net' \n",
    "                         , refit = True\n",
    "                         , L1_wt = 1\n",
    "                         , alpha = alpha)\n",
    "    r_square_lasso.append(reg.rsquared)"
   ]
  },
  {
   "cell_type": "code",
   "execution_count": 21,
   "metadata": {},
   "outputs": [
    {
     "data": {
      "text/plain": [
       "[0.25622676364926733,\n",
       " 0.25622676364926733,\n",
       " 0.25622676364926733,\n",
       " 0.25622676364926733,\n",
       " 0.2562206336762455,\n",
       " 0.2562206336762455]"
      ]
     },
     "execution_count": 21,
     "metadata": {},
     "output_type": "execute_result"
    }
   ],
   "source": [
    "r_square_lasso"
   ]
  },
  {
   "cell_type": "code",
   "execution_count": 22,
   "metadata": {},
   "outputs": [
    {
     "data": {
      "text/plain": [
       "0.25622676364926733"
      ]
     },
     "execution_count": 22,
     "metadata": {},
     "output_type": "execute_result"
    }
   ],
   "source": [
    "max(r_square_lasso)"
   ]
  },
  {
   "cell_type": "markdown",
   "metadata": {},
   "source": [
    "Neste caso, os maiores valores foram obtidos com alpha sendo 0, 0.001, 0.005 e 0.01, todos os valores de r-quadrado neste caso são iguais"
   ]
  },
  {
   "cell_type": "code",
   "execution_count": 23,
   "metadata": {},
   "outputs": [
    {
     "name": "stdout",
     "output_type": "stream",
     "text": [
      "Adicionada variável \"tempo_emprego\" com p-valor 0.0000\n",
      "Adicionada variável \"sexo_M\" com p-valor 0.0000\n",
      "Adicionada variável \"tipo_renda_Pensionista\" com p-valor 0.0031\n",
      "Adicionada variável \"idade\" com p-valor 0.0001\n",
      "Adicionada variável \"qt_pessoas_residencia\" com p-valor 0.0022\n",
      "                            OLS Regression Results                            \n",
      "==============================================================================\n",
      "Dep. Variable:                  renda   R-squared:                       0.224\n",
      "Model:                            OLS   Adj. R-squared:                  0.223\n",
      "Method:                 Least Squares   F-statistic:                     216.6\n",
      "Date:                Wed, 17 Jan 2024   Prob (F-statistic):          1.65e-203\n",
      "Time:                        16:01:07   Log-Likelihood:                -39044.\n",
      "No. Observations:                3750   AIC:                         7.810e+04\n",
      "Df Residuals:                    3744   BIC:                         7.814e+04\n",
      "Df Model:                           5                                         \n",
      "Covariance Type:            nonrobust                                         \n",
      "==========================================================================================\n",
      "                             coef    std err          t      P>|t|      [0.025      0.975]\n",
      "------------------------------------------------------------------------------------------\n",
      "const                  -4000.6386    836.707     -4.781      0.000   -5641.084   -2360.193\n",
      "tempo_emprego            500.1380     20.779     24.070      0.000     459.399     540.877\n",
      "sexo_M                  5983.4826    290.594     20.590      0.000    5413.744    6553.221\n",
      "tipo_renda_Pensionista -2165.3216    454.347     -4.766      0.000   -3056.112   -1274.531\n",
      "idade                     75.7086     16.402      4.616      0.000      43.550     107.867\n",
      "qt_pessoas_residencia    475.4513    155.348      3.061      0.002     170.876     780.026\n",
      "==============================================================================\n",
      "Omnibus:                     5284.960   Durbin-Watson:                   2.033\n",
      "Prob(Omnibus):                  0.000   Jarque-Bera (JB):          2061493.819\n",
      "Skew:                           8.106   Prob(JB):                         0.00\n",
      "Kurtosis:                     116.713   Cond. No.                         303.\n",
      "==============================================================================\n",
      "\n",
      "Notes:\n",
      "[1] Standard Errors assume that the covariance matrix of the errors is correctly specified.\n"
     ]
    }
   ],
   "source": [
    "#4.\n",
    "def stepwise_selection(X, y, \n",
    "                       initial_list=[], \n",
    "                       threshold_in=0.01, \n",
    "                       threshold_out=0.05, \n",
    "                       verbose=True):\n",
    "    \"\"\"\n",
    "    Realiza a seleção de variáveis stepwise para um modelo de regressão linear.\n",
    "    \n",
    "    Parâmetros:\n",
    "    - X: DataFrame com as variáveis independentes.\n",
    "    - y: Série ou array com a variável dependente.\n",
    "    - initial_list: Lista inicial de variáveis a serem incluídas no modelo.\n",
    "    - threshold_in: Valor-p máximo para incluir uma variável.\n",
    "    - threshold_out: Valor-p mínimo para remover uma variável.\n",
    "    - verbose: Se True, imprime detalhes durante o processo.\n",
    "    \n",
    "    Retorna:\n",
    "    - Modelo ajustado após a seleção stepwise.\n",
    "    \"\"\"\n",
    "    \n",
    "    included = list(initial_list)\n",
    "    while True:\n",
    "        changed = False\n",
    "        \n",
    "        # Adicionar variáveis\n",
    "        excluded = list(set(X.columns) - set(included))\n",
    "        new_pval = pd.Series(index=excluded, dtype=float)\n",
    "        \n",
    "        for new_column in excluded:\n",
    "            model = sm.OLS(y, sm.add_constant(pd.DataFrame(X[included + [new_column]]))).fit()\n",
    "            new_pval[new_column] = model.pvalues[new_column]\n",
    "        \n",
    "        best_pval = new_pval.min()\n",
    "        if best_pval < threshold_in:\n",
    "            best_feature = new_pval.idxmin()\n",
    "            included.append(best_feature)\n",
    "            changed = True\n",
    "            if verbose:\n",
    "                print(f'Adicionada variável \"{best_feature}\" com p-valor {best_pval:.4f}')\n",
    "        \n",
    "        # Remover variáveis\n",
    "        model = sm.OLS(y, sm.add_constant(pd.DataFrame(X[included]))).fit()\n",
    "        pvalues = model.pvalues.iloc[1:]\n",
    "        \n",
    "        worst_pval = pvalues.max()\n",
    "        if worst_pval > threshold_out:\n",
    "            worst_feature = pvalues.idxmax()\n",
    "            included.remove(worst_feature)\n",
    "            changed = True\n",
    "            if verbose:\n",
    "                print(f'Removida variável \"{worst_feature}\" com p-valor {worst_pval:.4f}')\n",
    "        \n",
    "        if not changed:\n",
    "            break\n",
    "    \n",
    "    return sm.OLS(y, sm.add_constant(pd.DataFrame(X[included]))).fit()\n",
    "\n",
    "# Exemplo de uso\n",
    "# Suponha que X seja seu DataFrame de variáveis independentes e y seja a variável dependente\n",
    "modelo_final = stepwise_selection(X_teste, y_teste)\n",
    "\n",
    "# Exiba um resumo do modelo final\n",
    "print(modelo_final.summary())\n"
   ]
  },
  {
   "cell_type": "markdown",
   "metadata": {},
   "source": [
    "5. Comparando os modelos pelos valores de r-quadrado, aquele que possui os maiores valores, logo é o melhor de todos, é o modelo feito pelo método de LASSO. "
   ]
  },
  {
   "cell_type": "code",
   "execution_count": 24,
   "metadata": {},
   "outputs": [],
   "source": [
    "#6. Usaremos agora os mesmo modelos tratados no exercício anterior deste módulo, veremos qual se sai melhor.\n",
    "novo_modelo = 'np.log(renda) ~ sexo + posse_de_veiculo + posse_de_imovel + qtd_filhos + idade + tempo_emprego '\n",
    "r_square_lasso_2 = []\n",
    "\n",
    "for alpha in alphas:\n",
    "    md = smf.ols(novo_modelo, data= df)\n",
    "    reg = md.fit_regularized(method = 'elastic_net' \n",
    "                         , refit = True\n",
    "                         , L1_wt = 1\n",
    "                         , alpha = alpha)\n",
    "    r_square_lasso_2.append(reg.rsquared)"
   ]
  },
  {
   "cell_type": "code",
   "execution_count": 25,
   "metadata": {},
   "outputs": [
    {
     "data": {
      "text/plain": [
       "[0.34652172503586076,\n",
       " 0.34397654165643443,\n",
       " 0.34299202325971534,\n",
       " 0.34522716413463206,\n",
       " 0.34299202325971534,\n",
       " 0.34299202325971534]"
      ]
     },
     "execution_count": 25,
     "metadata": {},
     "output_type": "execute_result"
    }
   ],
   "source": [
    "r_square_lasso_2"
   ]
  },
  {
   "cell_type": "code",
   "execution_count": 26,
   "metadata": {},
   "outputs": [],
   "source": [
    "modelo_3 = 'np.log(renda) ~ sexo + posse_de_veiculo + posse_de_imovel + qtd_filhos + C(tipo_renda, Treatment(\"Assalariado\")) + C(educacao, Treatment(\"Secundário\")) + C(estado_civil, Treatment(\"Casado\")) + tipo_residencia + idade + tempo_emprego + qt_pessoas_residencia'\n",
    "r_square_lasso_3 = []\n",
    "\n",
    "for alpha in alphas:\n",
    "    md = smf.ols(modelo_3, data= df)\n",
    "    reg = md.fit_regularized(method = 'elastic_net' \n",
    "                         , refit = True\n",
    "                         , L1_wt = 1\n",
    "                         , alpha = alpha)\n",
    "    r_square_lasso_3.append(reg.rsquared)"
   ]
  },
  {
   "cell_type": "code",
   "execution_count": 107,
   "metadata": {},
   "outputs": [
    {
     "data": {
      "text/plain": [
       "[0.357470405817387,\n",
       " 0.35410210770032846,\n",
       " 0.3458224190806556,\n",
       " 0.3456857611205141,\n",
       " 0.34299202325971534,\n",
       " 0.34299202325971534]"
      ]
     },
     "execution_count": 107,
     "metadata": {},
     "output_type": "execute_result"
    }
   ],
   "source": [
    "r_square_lasso_3"
   ]
  },
  {
   "cell_type": "markdown",
   "metadata": {},
   "source": [
    "Ao compararmos os dois modelos usados na lista de exercícios anterior, vemos que o mesmo tratamento aumentou significantemente o valor de r-quadrado, o terceiro modelo porém, se comparado ao segundo, teve uma aumento insignificante comparado ao aumento entre o segundo modelo e o primeiro, além disso, a grande quantidade de variáveis aumenta consideravelmente o risco de overfitting, por isso, o melhor modelo é o segundo."
   ]
  },
  {
   "cell_type": "code",
   "execution_count": 27,
   "metadata": {},
   "outputs": [
    {
     "data": {
      "text/html": [
       "<style>#sk-container-id-1 {color: black;}#sk-container-id-1 pre{padding: 0;}#sk-container-id-1 div.sk-toggleable {background-color: white;}#sk-container-id-1 label.sk-toggleable__label {cursor: pointer;display: block;width: 100%;margin-bottom: 0;padding: 0.3em;box-sizing: border-box;text-align: center;}#sk-container-id-1 label.sk-toggleable__label-arrow:before {content: \"▸\";float: left;margin-right: 0.25em;color: #696969;}#sk-container-id-1 label.sk-toggleable__label-arrow:hover:before {color: black;}#sk-container-id-1 div.sk-estimator:hover label.sk-toggleable__label-arrow:before {color: black;}#sk-container-id-1 div.sk-toggleable__content {max-height: 0;max-width: 0;overflow: hidden;text-align: left;background-color: #f0f8ff;}#sk-container-id-1 div.sk-toggleable__content pre {margin: 0.2em;color: black;border-radius: 0.25em;background-color: #f0f8ff;}#sk-container-id-1 input.sk-toggleable__control:checked~div.sk-toggleable__content {max-height: 200px;max-width: 100%;overflow: auto;}#sk-container-id-1 input.sk-toggleable__control:checked~label.sk-toggleable__label-arrow:before {content: \"▾\";}#sk-container-id-1 div.sk-estimator input.sk-toggleable__control:checked~label.sk-toggleable__label {background-color: #d4ebff;}#sk-container-id-1 div.sk-label input.sk-toggleable__control:checked~label.sk-toggleable__label {background-color: #d4ebff;}#sk-container-id-1 input.sk-hidden--visually {border: 0;clip: rect(1px 1px 1px 1px);clip: rect(1px, 1px, 1px, 1px);height: 1px;margin: -1px;overflow: hidden;padding: 0;position: absolute;width: 1px;}#sk-container-id-1 div.sk-estimator {font-family: monospace;background-color: #f0f8ff;border: 1px dotted black;border-radius: 0.25em;box-sizing: border-box;margin-bottom: 0.5em;}#sk-container-id-1 div.sk-estimator:hover {background-color: #d4ebff;}#sk-container-id-1 div.sk-parallel-item::after {content: \"\";width: 100%;border-bottom: 1px solid gray;flex-grow: 1;}#sk-container-id-1 div.sk-label:hover label.sk-toggleable__label {background-color: #d4ebff;}#sk-container-id-1 div.sk-serial::before {content: \"\";position: absolute;border-left: 1px solid gray;box-sizing: border-box;top: 0;bottom: 0;left: 50%;z-index: 0;}#sk-container-id-1 div.sk-serial {display: flex;flex-direction: column;align-items: center;background-color: white;padding-right: 0.2em;padding-left: 0.2em;position: relative;}#sk-container-id-1 div.sk-item {position: relative;z-index: 1;}#sk-container-id-1 div.sk-parallel {display: flex;align-items: stretch;justify-content: center;background-color: white;position: relative;}#sk-container-id-1 div.sk-item::before, #sk-container-id-1 div.sk-parallel-item::before {content: \"\";position: absolute;border-left: 1px solid gray;box-sizing: border-box;top: 0;bottom: 0;left: 50%;z-index: -1;}#sk-container-id-1 div.sk-parallel-item {display: flex;flex-direction: column;z-index: 1;position: relative;background-color: white;}#sk-container-id-1 div.sk-parallel-item:first-child::after {align-self: flex-end;width: 50%;}#sk-container-id-1 div.sk-parallel-item:last-child::after {align-self: flex-start;width: 50%;}#sk-container-id-1 div.sk-parallel-item:only-child::after {width: 0;}#sk-container-id-1 div.sk-dashed-wrapped {border: 1px dashed gray;margin: 0 0.4em 0.5em 0.4em;box-sizing: border-box;padding-bottom: 0.4em;background-color: white;}#sk-container-id-1 div.sk-label label {font-family: monospace;font-weight: bold;display: inline-block;line-height: 1.2em;}#sk-container-id-1 div.sk-label-container {text-align: center;}#sk-container-id-1 div.sk-container {/* jupyter's `normalize.less` sets `[hidden] { display: none; }` but bootstrap.min.css set `[hidden] { display: none !important; }` so we also need the `!important` here to be able to override the default hidden behavior on the sphinx rendered scikit-learn.org. See: https://github.com/scikit-learn/scikit-learn/issues/21755 */display: inline-block !important;position: relative;}#sk-container-id-1 div.sk-text-repr-fallback {display: none;}</style><div id=\"sk-container-id-1\" class=\"sk-top-container\"><div class=\"sk-text-repr-fallback\"><pre>DecisionTreeRegressor(random_state=0)</pre><b>In a Jupyter environment, please rerun this cell to show the HTML representation or trust the notebook. <br />On GitHub, the HTML representation is unable to render, please try loading this page with nbviewer.org.</b></div><div class=\"sk-container\" hidden><div class=\"sk-item\"><div class=\"sk-estimator sk-toggleable\"><input class=\"sk-toggleable__control sk-hidden--visually\" id=\"sk-estimator-id-1\" type=\"checkbox\" checked><label for=\"sk-estimator-id-1\" class=\"sk-toggleable__label sk-toggleable__label-arrow\">DecisionTreeRegressor</label><div class=\"sk-toggleable__content\"><pre>DecisionTreeRegressor(random_state=0)</pre></div></div></div></div></div>"
      ],
      "text/plain": [
       "DecisionTreeRegressor(random_state=0)"
      ]
     },
     "execution_count": 27,
     "metadata": {},
     "output_type": "execute_result"
    }
   ],
   "source": [
    "arvore = DecisionTreeRegressor(random_state=0)\n",
    "arvore.fit(X_train, y_train)"
   ]
  },
  {
   "cell_type": "code",
   "execution_count": 28,
   "metadata": {},
   "outputs": [
    {
     "data": {
      "text/plain": [
       "0.37896838698232327"
      ]
     },
     "execution_count": 28,
     "metadata": {},
     "output_type": "execute_result"
    }
   ],
   "source": [
    "previsao = arvore.predict(X_teste)\n",
    "r2_score(y_teste, previsao)"
   ]
  },
  {
   "cell_type": "markdown",
   "metadata": {},
   "source": [
    "O Valor de r-quadrado desta árvore é maior que qualquer valor obtido anteriormente (com exceção do modelo com overfitting), porém, a diferença é bastante pequena, seria necessárias outras análises para afirmar se essa diferença é insignificante ou não."
   ]
  }
 ],
 "metadata": {
  "kernelspec": {
   "display_name": "Python 3",
   "language": "python",
   "name": "python3"
  },
  "language_info": {
   "codemirror_mode": {
    "name": "ipython",
    "version": 3
   },
   "file_extension": ".py",
   "mimetype": "text/x-python",
   "name": "python",
   "nbconvert_exporter": "python",
   "pygments_lexer": "ipython3",
   "version": "3.11.4"
  }
 },
 "nbformat": 4,
 "nbformat_minor": 4
}
