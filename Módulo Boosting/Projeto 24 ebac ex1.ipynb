{
 "cells": [
  {
   "cell_type": "markdown",
   "metadata": {},
   "source": [
    "# Fundamentos de Boosting - Adaboost\n",
    "\n",
    "1 - Dentre as diferenças entre o random forest e o adaboost podemos citar:<br>\n",
    "- No random forest as árvores são treinada de forma independente, já no adaboost elas são interdependentes.<br>\n",
    "- No random forest todos os outputs do modelo possuem o mesmo peso (ponderados igualmente), já no adaboost o modelo da mais aos exemplos classificados como incorretos nas iterações anteriores.<br>\n",
    "- No adaboost as árvores contêm apenas 2 folhas cada (stumps), enquanto no random forest elas não possuem um tamanho pré definido por default.<br>\n",
    "- Em geral, o random forest tende a gerar modelos maiores que o adaboost, já qu o primeiro não possui limitações quanto a profundidade da árvore.<br>\n",
    "- Como o random forest roda com árvores independentes, este é mais fácilmente paralelizado que o adaboost, ainda que existam variantes do adaboost que tentem mitigar este problema."
   ]
  },
  {
   "cell_type": "code",
   "execution_count": 1,
   "metadata": {},
   "outputs": [
    {
     "data": {
      "text/plain": [
       "0.9533333333333334"
      ]
     },
     "execution_count": 1,
     "metadata": {},
     "output_type": "execute_result"
    }
   ],
   "source": [
    "# 2 - Este exemplo foi retirado diretamente do seite do scikitlearn\n",
    "from sklearn.model_selection import cross_val_score\n",
    "from sklearn.datasets import load_iris\n",
    "from sklearn.ensemble import AdaBoostClassifier\n",
    "\n",
    "X, y = load_iris(return_X_y=True)\n",
    "clf = AdaBoostClassifier(n_estimators=100, algorithm=\"SAMME\",)\n",
    "scores = cross_val_score(clf, X, y, cv=5)\n",
    "scores.mean()"
   ]
  },
  {
   "cell_type": "markdown",
   "metadata": {},
   "source": [
    "3 - Dentre os hiperparâmetros do AdaBoost temos:\n",
    "- estimator: O tipo de estimador fraco a ser usado no AdaBoost, por padrão é o modelo de stumps.\n",
    "- n_estimators: Define o número máximo de estimadores a ser usados no moedelo.\n",
    "- learning_rate: Controla a contribuição de cada estimador para a atualização dos pesos durante o treinamento.\n",
    "- algorithm: Define se o tipo de algoritmo 'SAMME' o SAMME.R' será usado no modelo.\n",
    "- random_state: Controla a aleatoriedade dada a cada estimador a cada iteração de boosting."
   ]
  },
  {
   "cell_type": "code",
   "execution_count": 2,
   "metadata": {},
   "outputs": [
    {
     "name": "stdout",
     "output_type": "stream",
     "text": [
      "Melhores hiperparâmetros encontrados:\n",
      "{'algorithm': 'SAMME', 'learning_rate': 0.1, 'n_estimators': 150}\n"
     ]
    }
   ],
   "source": [
    "# 4 - Aqui iremos usar o GridSearchCV para avaliar quais os melhores hiperparâmetros dentre os valores passados\n",
    "from sklearn.model_selection import GridSearchCV\n",
    "X, y = load_iris(return_X_y=True)\n",
    "clf = AdaBoostClassifier()\n",
    "param_grid = {\n",
    "    'n_estimators': [50, 100, 150],  # Número de estimadores\n",
    "    'learning_rate': [0.1, 0.5, 1.0],  # Taxa de aprendizado\n",
    "    'algorithm': ['SAMME', 'SAMME.R']  # Algoritmo de boosting\n",
    "}\n",
    "\n",
    "grid_search = GridSearchCV(estimator=clf, param_grid=param_grid, cv=5)\n",
    "grid_search.fit(X, y)\n",
    "\n",
    "print(\"Melhores hiperparâmetros encontrados:\")\n",
    "print(grid_search.best_params_)"
   ]
  }
 ],
 "metadata": {
  "kernelspec": {
   "display_name": "Python 3",
   "language": "python",
   "name": "python3"
  },
  "language_info": {
   "codemirror_mode": {
    "name": "ipython",
    "version": 3
   },
   "file_extension": ".py",
   "mimetype": "text/x-python",
   "name": "python",
   "nbconvert_exporter": "python",
   "pygments_lexer": "ipython3",
   "version": "3.11.4"
  }
 },
 "nbformat": 4,
 "nbformat_minor": 2
}
